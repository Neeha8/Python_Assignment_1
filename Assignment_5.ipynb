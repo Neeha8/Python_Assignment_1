{
 "cells": [
  {
   "cell_type": "markdown",
   "id": "548e70b5",
   "metadata": {},
   "source": [
    "## 1. What does an empty dictionary&#39;s code look like?"
   ]
  },
  {
   "cell_type": "code",
   "execution_count": 1,
   "id": "e5b6ed85",
   "metadata": {},
   "outputs": [
    {
     "data": {
      "text/plain": [
       "dict"
      ]
     },
     "execution_count": 1,
     "metadata": {},
     "output_type": "execute_result"
    }
   ],
   "source": [
    "my_dict = {}\n",
    "type(my_dict)"
   ]
  },
  {
   "cell_type": "markdown",
   "id": "4f675048",
   "metadata": {},
   "source": [
    "## 2. What is the value of a dictionary value with the key 'foo' and the value 42?"
   ]
  },
  {
   "cell_type": "code",
   "execution_count": 3,
   "id": "6f22957b",
   "metadata": {},
   "outputs": [
    {
     "data": {
      "text/plain": [
       "dict_values([42])"
      ]
     },
     "execution_count": 3,
     "metadata": {},
     "output_type": "execute_result"
    }
   ],
   "source": [
    "my_dict['foo']=42\n",
    "my_dict.values()"
   ]
  },
  {
   "cell_type": "markdown",
   "id": "66aa680a",
   "metadata": {},
   "source": [
    "## 3. What is the most significant distinction between a dictionary and a list?\n",
    "\n",
    "\n",
    "**List:** A list is an ordered collection of elements that can be of any data type. The elements in a list are indexed by integers and maintain the order of insertion. Lists are represented by square brackets [].\n",
    "\n",
    "**Dictionary:** A dictionary is an unordered collection of key-value pairs. Each key is unique and associated with a value. Dictionaries are represented by curly braces {}.\n",
    "\n",
    "**List:** In a list, elements are accessed by their position (index) within the list.  We can retrieve elements using indexing, such as my_list[0] to access the first element.\n",
    "\n",
    "**Dictionary:** In a dictionary, elements are accessed by their unique keys. We can retrieve values by specifying the corresponding key, such as my_dict['key'] to access the value associated with the key 'key'.\n",
    "\n",
    "\n",
    "**List:** Lists maintain the order of elements based on their position. The order in which elements are inserted into a list is preserved.\n",
    "\n",
    "**Dictionary:** Dictionaries do not have a fixed order for their elements. The order of key-value pairs may vary and is not guaranteed.\n"
   ]
  },
  {
   "cell_type": "markdown",
   "id": "df9845f6",
   "metadata": {},
   "source": [
    "## 4. What happens if you try to access spam['foo'] if spam is {'bar': 100}?"
   ]
  },
  {
   "cell_type": "code",
   "execution_count": 4,
   "id": "2fa877ef",
   "metadata": {},
   "outputs": [
    {
     "ename": "KeyError",
     "evalue": "'foo'",
     "output_type": "error",
     "traceback": [
      "\u001b[1;31m---------------------------------------------------------------------------\u001b[0m",
      "\u001b[1;31mKeyError\u001b[0m                                  Traceback (most recent call last)",
      "Cell \u001b[1;32mIn[4], line 2\u001b[0m\n\u001b[0;32m      1\u001b[0m spam\u001b[38;5;241m=\u001b[39m{\u001b[38;5;124m'\u001b[39m\u001b[38;5;124mbar\u001b[39m\u001b[38;5;124m'\u001b[39m:\u001b[38;5;241m100\u001b[39m}\n\u001b[1;32m----> 2\u001b[0m \u001b[43mspam\u001b[49m\u001b[43m[\u001b[49m\u001b[38;5;124;43m'\u001b[39;49m\u001b[38;5;124;43mfoo\u001b[39;49m\u001b[38;5;124;43m'\u001b[39;49m\u001b[43m]\u001b[49m\n",
      "\u001b[1;31mKeyError\u001b[0m: 'foo'"
     ]
    }
   ],
   "source": [
    "spam={'bar':100}\n",
    "spam['foo'] #key error, as foo key is not their in dictionary"
   ]
  },
  {
   "cell_type": "markdown",
   "id": "c2242187",
   "metadata": {},
   "source": [
    "## 5. If a dictionary is stored in spam, what is the difference between the expressions 'cat' in spam and 'cat' in spam.keys()?\n",
    "\n",
    "**'cat' in spam:**\n",
    "This expression checks if the key 'cat' is present in the dictionary spam. It returns True if the key is found and False otherwise. It searches for the key directly within the dictionary's keys, without accessing the keys() method explicitly.\n",
    "\n",
    "spam = {'cat': 'meow', 'dog': 'woof'}\n",
    "\n",
    "print('cat' in spam)  # Output: True\n",
    "\n",
    "\n",
    "**'cat' in spam.keys():**\n",
    "This expression explicitly uses the keys() method of the dictionary spam to retrieve a list-like view object of the dictionary's keys. It then checks if the key 'cat' is present in that list-like view object.\n",
    "\n",
    "spam = {'cat': 'meow', 'dog': 'woof'}\n",
    "\n",
    "print('cat' in spam.keys())  # Output: True\n",
    "\n"
   ]
  },
  {
   "cell_type": "markdown",
   "id": "c3407882",
   "metadata": {},
   "source": [
    "## 6. If a dictionary is stored in spam, what is the difference between the expressions 'cat' in spam and 'cat' in spam.values()?\n",
    "\n",
    "**'cat' in spam:**\n",
    "This expression checks if the value 'cat' is present as a key in the dictionary spam. It returns True if the key is found and False otherwise. It searches for the value directly within the dictionary's keys, not the values.\n",
    "\n",
    "spam = {'cat': 'meow', 'dog': 'woof'}\n",
    "\n",
    "print('cat' in spam)  # Output: True\n",
    "\n",
    "**'cat' in spam.values():**\n",
    "This expression explicitly uses the values() method of the dictionary spam to retrieve a list-like view object of the dictionary's values. It then checks if the value 'cat' is present in that list-like view object.\n",
    "\n",
    "spam = {'cat': 'meow', 'dog': 'woof'}\n",
    "\n",
    "print('cat' in spam.values())  # Output: True\n",
    "print('meow' in spam.values())  # Output: True\n",
    "\n"
   ]
  },
  {
   "cell_type": "markdown",
   "id": "04e8904b",
   "metadata": {},
   "source": [
    "## 7. What is a shortcut for the following code?\n",
    "## if 'color'  not in spam:\n",
    "## spam['color'] = 'black'"
   ]
  },
  {
   "cell_type": "code",
   "execution_count": 5,
   "id": "3e3e4fa0",
   "metadata": {},
   "outputs": [],
   "source": [
    "spam={}"
   ]
  },
  {
   "cell_type": "code",
   "execution_count": 6,
   "id": "c08522b9",
   "metadata": {},
   "outputs": [
    {
     "data": {
      "text/plain": [
       "'black'"
      ]
     },
     "execution_count": 6,
     "metadata": {},
     "output_type": "execute_result"
    }
   ],
   "source": [
    "spam.setdefault('color', 'black')\n"
   ]
  },
  {
   "cell_type": "code",
   "execution_count": 7,
   "id": "5edf2834",
   "metadata": {},
   "outputs": [
    {
     "data": {
      "text/plain": [
       "{'color': 'black'}"
      ]
     },
     "execution_count": 7,
     "metadata": {},
     "output_type": "execute_result"
    }
   ],
   "source": [
    "spam"
   ]
  }
 ],
 "metadata": {
  "kernelspec": {
   "display_name": "Python 3 (ipykernel)",
   "language": "python",
   "name": "python3"
  },
  "language_info": {
   "codemirror_mode": {
    "name": "ipython",
    "version": 3
   },
   "file_extension": ".py",
   "mimetype": "text/x-python",
   "name": "python",
   "nbconvert_exporter": "python",
   "pygments_lexer": "ipython3",
   "version": "3.10.9"
  }
 },
 "nbformat": 4,
 "nbformat_minor": 5
}
