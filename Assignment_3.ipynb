{
 "cells": [
  {
   "cell_type": "markdown",
   "id": "ef9e824b",
   "metadata": {},
   "source": [
    "## 1) Why are functions advantageous to have in your programs?\n",
    "\n",
    "**Reusability:** Functions allow you to write reusable blocks of code that can be called multiple times from different parts of program. \n",
    "\n",
    "**Modularity:** Functions enable you to break down complex tasks into smaller, manageable chunks. Each function can be responsible for a specific task or operation, making code easier to understand and debug. \n",
    "\n",
    "**Readability:** Functions improve the readability of code by providing meaningful names to blocks of code that perform specific actions. Instead of having a long sequence of instructions, we can encapsulate related functionality within a function and give it a descriptive name. This makes code more self-explanatory and easier for other developers to understand.\n",
    "\n",
    "**Maintainability:** Functions contribute to the maintainability of code by promoting code reuse and modularity. When we need to make changes or fix issues, we can focus on a specific function without affecting the rest of the program. This simplifies the debugging and testing process.\n",
    "\n",
    "**Code organization:** Functions help in organizing your code into logical units, making it easier to navigate and manage. We can group related functions together, create separate files for different modules, or even organize functions within classes or namespaces. This structuring improves the overall structure of your program and enhances collaboration among team members.\n",
    "\n",
    "**Code testing:** Functions facilitate unit testing, which involves testing individual components of our code. By breaking down your program into smaller functions, we can write test cases for each function and verify its correctness independently. This makes it easier to identify and fix issues, ensuring the reliability and quality of code."
   ]
  },
  {
   "cell_type": "markdown",
   "id": "5a82a463",
   "metadata": {},
   "source": [
    "## 2) When does the code in a function run: when it's specified or when it's called?\n",
    "\n",
    "When we define a function, code inside the function will not run\n",
    "\n",
    "def sample():\n",
    "\n",
    "    print(\"Hello, World!\")\n",
    "    \n",
    "**Calling a function**\n",
    "sample() --> this will run the code inside the function"
   ]
  },
  {
   "cell_type": "markdown",
   "id": "8a354a2e",
   "metadata": {},
   "source": [
    "## 3) What statement creates a function?\n",
    "\n",
    "**def:** This keyword is used to declare a function in Python.\n",
    "\n",
    "**function_name:** This is the name og function. It should be a meaningful and descriptive name that indicates the purpose of the function.\n",
    "\n",
    "**parameters:** These are optional placeholders that represent values or variables that can be passed into the function when it is called. Parameters are enclosed in parentheses and separated by commas.\n",
    "\n",
    "**: (colon):** It is a syntax requirement in Python and marks the end of the function definition line.\n",
    "\n",
    "**Code block or statements:** These are the instructions that make up the body of the function. The code block is indented and contains the logic and operations to be executed when the function is called.\n",
    "\n",
    "def sample():\n",
    "\n",
    "print(\"Hello, World!\")\n",
    "Calling a function sample() --> this will run the code inside the function"
   ]
  },
  {
   "cell_type": "markdown",
   "id": "d82d901f",
   "metadata": {},
   "source": [
    "## 4) What is the difference between a function and a function call?\n",
    "\n",
    "**function** is the definition or blueprint of a specific set of instructions, while a **function call** is the actual execution or invocation of that function at a specific point in the program. \n",
    "\n",
    "**Functions** are defined using the **def** statement and are reusable, whereas **function calls** involve using the function's name followed by parentheses to trigger the execution of the function's code."
   ]
  },
  {
   "cell_type": "markdown",
   "id": "2c974462",
   "metadata": {},
   "source": [
    "## 5) How many global scopes are there in a Python program? How many local scopes?\n",
    "\n",
    "**Global Scopes:** Global scopes are the scopes that exist at the top level of a Python program or module. When we define variables, functions, or classes outside of any function or class definition, they belong to the global scope. The global scope is accessible throughout the entire program. In a Python program, there is typically one global scope per module or script. However, if you import modules from other files, each module will have its own global scope.\n",
    "\n",
    "**Local Scopes:** Local scopes are created whenever a function is called or when a block of code, such as a loop or conditional statement, is executed. Each function call or block of code creates a new local scope. Variables defined within a local scope are only accessible within that specific scope and its nested scopes. When a function or block of code completes its execution, the local scope is destroyed. This means that local variables are typically temporary and only exist for the duration of the function call or block execution.\n",
    "\n",
    "In summary, the number of global scopes in a Python program depends on the number of modules and scripts used, while the number of local scopes depends on the number of function calls and block executions within the program."
   ]
  },
  {
   "cell_type": "markdown",
   "id": "43083891",
   "metadata": {},
   "source": [
    "## 6) What happens to variables in a local scope when the function call returns?\n",
    "When a function call returns and the execution of the function completes, the local scope associated with that function is destroyed."
   ]
  },
  {
   "cell_type": "markdown",
   "id": "262d5f0e",
   "metadata": {},
   "source": [
    "## 7) What is the concept of a return value? Is it possible to have a return value in an expression?\n",
    "\n",
    "**return value** refers to the value that a function produces and returns to the caller when the function is executed. When a function reaches a return statement, it immediately exits and returns the specified value (if any) back to the caller.\n",
    "\n",
    "**Example:**\n",
    "\n",
    "def square(x):\n",
    "\n",
    "    return x ** 2\n",
    "\n",
    "result = square(5)  # Function call with an argument\n",
    "\n",
    "print(result)      # Output: 25\n",
    "\n",
    "It's worth noting that a return value can be used directly in an expression. For example, We can pass a function call as an argument to another function or use it within mathematical or logical operations. This allows for concise and expressive code."
   ]
  },
  {
   "cell_type": "markdown",
   "id": "cac6dd85",
   "metadata": {},
   "source": [
    "## 8) If a function does not have a return statement, what is the return value of a call to that function?\n",
    "\n",
    "If a function does not have a return statement, or if the return statement does not specify a value, the return value of a call to that function is **None.**\n",
    "\n",
    "**Example:**\n",
    "\n",
    "def greet():\n",
    "\n",
    "    print(\"Hello, World!\")\n",
    "\n",
    "result = greet()  # Function call\n",
    "\n",
    "print(result)    # Output: None\n"
   ]
  },
  {
   "cell_type": "markdown",
   "id": "8d2143b6",
   "metadata": {},
   "source": [
    "## 9) How do you make a function variable refer to the global variable?\n",
    "\n",
    "**global** keyword allows you to declare within a function that a variable is referring to a global variable defined outside of the function's scope.\n",
    "\n",
    "**Example:**\n",
    "\n",
    "global_var = 10  # Global variable\n",
    "\n",
    "def modify_global():\n",
    "\n",
    "    global global_var  # Declare the variable as global\n",
    "    \n",
    "    global_var = 20    # Modify the global variable\n",
    "\n",
    "print(global_var)    # Output: 10\n",
    "\n",
    "modify_global()\n",
    "\n",
    "print(global_var)    # Output: 20\n"
   ]
  },
  {
   "cell_type": "markdown",
   "id": "15423a28",
   "metadata": {},
   "source": [
    "## 10) What is the data type of None?\n",
    "\n",
    "The data type of None in Python is called **NoneType.** It is a special built-in type that represents the absence of a value or the lack of a specific object or as a default return value when a function does not explicitly return anything.\n",
    "\n",
    "result = None\n",
    "\n",
    "print(type(result))  # Output: <class 'NoneType'>\n"
   ]
  },
  {
   "cell_type": "markdown",
   "id": "999df868",
   "metadata": {},
   "source": [
    "## 11) What does the sentence import areallyourpetsnamederic do?\n",
    "\n",
    "The sentence \"import areallyourpetsnamederic\" is not a valid Python statement and would result in a **ModuleNotFoundError** error."
   ]
  },
  {
   "cell_type": "code",
   "execution_count": 1,
   "id": "7485bdaa",
   "metadata": {},
   "outputs": [
    {
     "ename": "ModuleNotFoundError",
     "evalue": "No module named 'areallyourpetsnamederic'",
     "output_type": "error",
     "traceback": [
      "\u001b[1;31m---------------------------------------------------------------------------\u001b[0m",
      "\u001b[1;31mModuleNotFoundError\u001b[0m                       Traceback (most recent call last)",
      "Cell \u001b[1;32mIn[1], line 1\u001b[0m\n\u001b[1;32m----> 1\u001b[0m \u001b[38;5;28;01mimport\u001b[39;00m \u001b[38;5;21;01mareallyourpetsnamederic\u001b[39;00m\n",
      "\u001b[1;31mModuleNotFoundError\u001b[0m: No module named 'areallyourpetsnamederic'"
     ]
    }
   ],
   "source": [
    "import areallyourpetsnamederic"
   ]
  },
  {
   "cell_type": "markdown",
   "id": "07b74890",
   "metadata": {},
   "source": [
    "## 12) If you had a bacon() feature in a spam module, what would you call it after importing spam?\n",
    "\n",
    "import spam\n",
    "\n",
    "spam.bacon()\n"
   ]
  },
  {
   "cell_type": "markdown",
   "id": "04f6ac2e",
   "metadata": {},
   "source": [
    "## 13) What can you do to save a programme from crashing if it encounters an error?\n",
    "**Try-Except Blocks:**\n",
    "    \n",
    "try:\n",
    "\n",
    "    # Code that may raise an exception\n",
    "    \n",
    "except ExceptionType:\n",
    "\n",
    "    # Handle the specific exception\n",
    "\n",
    "**Multiple Except Blocks:**\n",
    "\n",
    "try:\n",
    "\n",
    "    # Code that may raise an exception\n",
    "    \n",
    "except ExceptionType1:\n",
    "\n",
    "    # Handle ExceptionType1\n",
    "    \n",
    "except ExceptionType2:\n",
    "\n",
    "    # Handle ExceptionType2\n",
    "\n",
    "**Logging:**\n",
    "\n",
    "import logging\n",
    "\n",
    "try:\n",
    "\n",
    "    # Code that may raise an exception\n",
    "    \n",
    "except ExceptionType as e:\n",
    "\n",
    "    logging.error(\"An error occurred: %s\", str(e))\n"
   ]
  },
  {
   "cell_type": "markdown",
   "id": "fbe9d593",
   "metadata": {},
   "source": [
    "## 14) What is the purpose of the try clause? What is the purpose of the except clause?\n",
    "\n",
    "**try**\n",
    "\n",
    "here we can write code that may raise an exception\n",
    "\n",
    "**except**\n",
    "\n",
    "Handle the specific exception\n"
   ]
  }
 ],
 "metadata": {
  "kernelspec": {
   "display_name": "Python 3 (ipykernel)",
   "language": "python",
   "name": "python3"
  },
  "language_info": {
   "codemirror_mode": {
    "name": "ipython",
    "version": 3
   },
   "file_extension": ".py",
   "mimetype": "text/x-python",
   "name": "python",
   "nbconvert_exporter": "python",
   "pygments_lexer": "ipython3",
   "version": "3.10.9"
  }
 },
 "nbformat": 4,
 "nbformat_minor": 5
}
