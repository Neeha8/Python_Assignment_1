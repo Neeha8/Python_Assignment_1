{
 "cells": [
  {
   "cell_type": "markdown",
   "id": "2fd2b8fc",
   "metadata": {},
   "source": [
    "## 1. What is the role of the 'else' block in a try-except statement? Provide an example scenario where it would be useful."
   ]
  },
  {
   "cell_type": "code",
   "execution_count": 1,
   "id": "9a89b64f",
   "metadata": {},
   "outputs": [
    {
     "name": "stdout",
     "output_type": "stream",
     "text": [
      "Enter a number: 2\n",
      "Result: 5.0\n",
      "Else block\n"
     ]
    }
   ],
   "source": [
    "# else is execute when their is no errors \n",
    "\n",
    "try:\n",
    "    num = int(input(\"Enter a number: \"))\n",
    "    result = 10 / num\n",
    "    print(\"Result:\", result)\n",
    "except ZeroDivisionError:\n",
    "    print(\"Error: Cannot divide by zero.\")\n",
    "else:\n",
    "    print(\"Else block\")"
   ]
  },
  {
   "cell_type": "markdown",
   "id": "b6b7ae12",
   "metadata": {},
   "source": [
    "## 2. Can a try-except block be nested inside another try-except block? Explain with an example."
   ]
  },
  {
   "cell_type": "code",
   "execution_count": 2,
   "id": "2ffa3972",
   "metadata": {},
   "outputs": [
    {
     "name": "stdout",
     "output_type": "stream",
     "text": [
      "Enter the first number: 2\n",
      "Enter the second number: 3\n",
      "Result: 0.6666666666666666\n"
     ]
    }
   ],
   "source": [
    "# Yes it is possible\n",
    "\n",
    "try:\n",
    "    # Outer try block\n",
    "    num1 = int(input(\"Enter the first number: \"))\n",
    "    num2 = int(input(\"Enter the second number: \"))\n",
    "    \n",
    "    try:\n",
    "        # Inner try block\n",
    "        result = num1 / num2\n",
    "        print(\"Result:\", result)\n",
    "    except ZeroDivisionError:\n",
    "        print(\"Error: Division by zero.\")\n",
    "    except ValueError:\n",
    "        print(\"Error: Invalid input for the inner try block.\")\n",
    "        \n",
    "except ValueError:\n",
    "    print(\"Error: Invalid input for the outer try block.\")\n"
   ]
  },
  {
   "cell_type": "markdown",
   "id": "17c739d6",
   "metadata": {},
   "source": [
    "## 3. How can you create a custom exception class in Python? Provide an example that demonstrates its usage."
   ]
  },
  {
   "cell_type": "code",
   "execution_count": 4,
   "id": "a5f246bc",
   "metadata": {},
   "outputs": [
    {
     "ename": "lessnumber_exception",
     "evalue": "CustomError: Invalid data: Negative values not allowed",
     "output_type": "error",
     "traceback": [
      "\u001b[1;31m---------------------------------------------------------------------------\u001b[0m",
      "\u001b[1;31mlessnumber_exception\u001b[0m                      Traceback (most recent call last)",
      "Cell \u001b[1;32mIn[4], line 11\u001b[0m\n\u001b[0;32m      9\u001b[0m     \u001b[38;5;28;01mif\u001b[39;00m num \u001b[38;5;241m<\u001b[39m \u001b[38;5;241m0\u001b[39m:\n\u001b[0;32m     10\u001b[0m         \u001b[38;5;28;01mraise\u001b[39;00m lessnumber_exception(\u001b[38;5;124m\"\u001b[39m\u001b[38;5;124mInvalid data: Negative values not allowed\u001b[39m\u001b[38;5;124m\"\u001b[39m)\n\u001b[1;32m---> 11\u001b[0m \u001b[43mfunct\u001b[49m\u001b[43m(\u001b[49m\u001b[38;5;241;43m-\u001b[39;49m\u001b[38;5;241;43m1\u001b[39;49m\u001b[43m)\u001b[49m\n",
      "Cell \u001b[1;32mIn[4], line 10\u001b[0m, in \u001b[0;36mfunct\u001b[1;34m(num)\u001b[0m\n\u001b[0;32m      8\u001b[0m \u001b[38;5;28;01mdef\u001b[39;00m \u001b[38;5;21mfunct\u001b[39m(num):\n\u001b[0;32m      9\u001b[0m     \u001b[38;5;28;01mif\u001b[39;00m num \u001b[38;5;241m<\u001b[39m \u001b[38;5;241m0\u001b[39m:\n\u001b[1;32m---> 10\u001b[0m         \u001b[38;5;28;01mraise\u001b[39;00m lessnumber_exception(\u001b[38;5;124m\"\u001b[39m\u001b[38;5;124mInvalid data: Negative values not allowed\u001b[39m\u001b[38;5;124m\"\u001b[39m)\n",
      "\u001b[1;31mlessnumber_exception\u001b[0m: CustomError: Invalid data: Negative values not allowed"
     ]
    }
   ],
   "source": [
    "class lessnumber_exception(Exception):\n",
    "    def __init__(self, message):\n",
    "        self.message = message\n",
    "\n",
    "    def __str__(self):\n",
    "        return f\"CustomError: {self.message}\"\n",
    "    \n",
    "def funct(num):\n",
    "    if num < 0:\n",
    "        raise lessnumber_exception(\"Invalid data: Negative values not allowed\")\n",
    "funct(-1)"
   ]
  },
  {
   "cell_type": "code",
   "execution_count": 5,
   "id": "f554f10e",
   "metadata": {},
   "outputs": [
    {
     "name": "stdout",
     "output_type": "stream",
     "text": [
      "Enter a number: -1\n",
      "Error: CustomError: Invalid data: Negative values not allowed\n"
     ]
    }
   ],
   "source": [
    "try:\n",
    "    data = int(input(\"Enter a number: \"))\n",
    "    funct(data)\n",
    "    print(\"Data processing completed successfully.\")\n",
    "except lessnumber_exception as e:\n",
    "    print(\"Error:\", str(e))"
   ]
  },
  {
   "cell_type": "markdown",
   "id": "a6222cfa",
   "metadata": {},
   "source": [
    "## 4. What are some common exceptions that are built-in to Python?\n",
    "\n",
    "**Exception:** The base class for all built-in exceptions. It is generally not directly raised but serves as a superclass for more specific exception classes.\n",
    "\n",
    "**TypeError:** Raised when an operation or function is performed on an object of an inappropriate type.\n",
    "\n",
    "**ValueError:** Raised when an operation or function receives an argument of the correct type but with an invalid value.\n",
    "\n",
    "**IndexError:** Raised when attempting to access an index of a sequence (such as a list or a string) that is outside the valid range.\n",
    "\n",
    "**KeyError:** Raised when trying to access a key that does not exist in a dictionary.\n",
    "\n",
    "**FileNotFoundError:** Raised when attempting to access a file or path that does not exist.\n",
    "\n",
    "**ZeroDivisionError:** Raised when dividing a number by zero.\n",
    "\n",
    "**AttributeError:** Raised when an attribute or method is accessed on an object that does not have it.\n",
    "\n",
    "**ImportError:** Raised when a module or package cannot be imported.\n",
    "\n",
    "**IOError:** Raised when an I/O (input/output) operation fails.\n",
    "\n",
    "**StopIteration:** Raised to signal the end of an iterator.\n",
    "\n",
    "**KeyboardInterrupt:** Raised when the user interrupts the execution of a program, typically by pressing Ctrl+C."
   ]
  },
  {
   "cell_type": "markdown",
   "id": "d2c15953",
   "metadata": {},
   "source": [
    "## 5. What is logging in Python, and why is it important in software development?\n",
    "\n",
    "Logging in Python refers to the process of capturing and recording events, messages, and other relevant information during the execution of a program. It involves using the built-in logging module in Python to create log records that can be stored or output in various formats, such as the console, files, or external services.\n",
    "\n",
    "**Debugging and Troubleshooting:** Logging provides a valuable tool for diagnosing and fixing issues in software. \n",
    "\n",
    "**Error Tracking and Monitoring:** Logging allows developers to track and monitor errors and exceptions that occur in a software application. \n",
    "\n",
    "**Auditing and Compliance:** In many applications, it is important to maintain an audit trail or log of critical actions or events. \n",
    "\n",
    "**Performance Analysis:** Logging can be used to measure and analyze the performance of an application.\n",
    "\n",
    "**Application Monitoring:** Logging plays a crucial role in monitoring the health and behavior of an application. "
   ]
  },
  {
   "cell_type": "markdown",
   "id": "05f71f2f",
   "metadata": {},
   "source": [
    "## 6. Explain the purpose of log levels in Python logging and provide examples of when each log level would be appropriate.\n",
    "\n",
    "In Python logging, log levels are used to categorize and prioritize log records based on their importance and severity. \n",
    "\n",
    "**DEBUG:** The lowest log level used for detailed information during development and debugging. \n",
    "\n",
    "**INFO:** Used for general information messages about the program's execution.\n",
    "\n",
    "**WARNING:** Indicates potentially harmful or unexpected situations that are not critical but should be noted. \n",
    "\n",
    "**ERROR:** Indicates error conditions that prevent the program from functioning as intended but are not severe enough to cause immediate termination.\n",
    "\n",
    "**CRITICAL:** The highest log level indicating critical errors or conditions that may lead to program failure or termination"
   ]
  },
  {
   "cell_type": "code",
   "execution_count": 6,
   "id": "40f0fb31",
   "metadata": {},
   "outputs": [
    {
     "name": "stderr",
     "output_type": "stream",
     "text": [
      "DEBUG:root:This is a debug message\n"
     ]
    }
   ],
   "source": [
    "import logging\n",
    "\n",
    "logging.basicConfig(level=logging.DEBUG)\n",
    "logging.debug(\"This is a debug message\")"
   ]
  },
  {
   "cell_type": "code",
   "execution_count": 7,
   "id": "9a404a43",
   "metadata": {},
   "outputs": [
    {
     "name": "stderr",
     "output_type": "stream",
     "text": [
      "INFO:root:This is an informational message\n"
     ]
    }
   ],
   "source": [
    "import logging\n",
    "\n",
    "logging.basicConfig(level=logging.INFO)\n",
    "logging.info(\"This is an informational message\")"
   ]
  },
  {
   "cell_type": "code",
   "execution_count": 8,
   "id": "9da5a61c",
   "metadata": {},
   "outputs": [
    {
     "name": "stderr",
     "output_type": "stream",
     "text": [
      "WARNING:root:This is a warning message\n"
     ]
    }
   ],
   "source": [
    "import logging\n",
    "\n",
    "logging.basicConfig(level=logging.WARNING)\n",
    "logging.warning(\"This is a warning message\")"
   ]
  },
  {
   "cell_type": "code",
   "execution_count": 9,
   "id": "18ecbe82",
   "metadata": {},
   "outputs": [
    {
     "name": "stderr",
     "output_type": "stream",
     "text": [
      "ERROR:root:This is an error message\n"
     ]
    }
   ],
   "source": [
    "import logging\n",
    "\n",
    "logging.basicConfig(level=logging.ERROR)\n",
    "logging.error(\"This is an error message\")"
   ]
  },
  {
   "cell_type": "code",
   "execution_count": 10,
   "id": "918e78f4",
   "metadata": {},
   "outputs": [
    {
     "name": "stderr",
     "output_type": "stream",
     "text": [
      "CRITICAL:root:This is a critical message\n"
     ]
    }
   ],
   "source": [
    "import logging\n",
    "\n",
    "logging.basicConfig(level=logging.CRITICAL)\n",
    "logging.critical(\"This is a critical message\")"
   ]
  },
  {
   "cell_type": "markdown",
   "id": "cfd356f6",
   "metadata": {},
   "source": [
    "## 7. What are log formatters in Python logging, and how can you customise the log message format using formatters?\n",
    "\n",
    "In Python logging, log formatters are used to define the structure and content of log messages. They provide a way to customize the format in which log records are displayed or stored. Formatters allow you to control the information included in the log messages, such as timestamps, log levels, module names, and custom messages."
   ]
  },
  {
   "cell_type": "code",
   "execution_count": 11,
   "id": "9b276b71",
   "metadata": {},
   "outputs": [
    {
     "name": "stderr",
     "output_type": "stream",
     "text": [
      "2023-07-05 23:04:38,947 - DEBUG - Debug message\n",
      "DEBUG:my_logger:Debug message\n",
      "2023-07-05 23:04:38,948 - INFO - Info message\n",
      "INFO:my_logger:Info message\n",
      "2023-07-05 23:04:38,949 - WARNING - Warning message\n",
      "WARNING:my_logger:Warning message\n"
     ]
    }
   ],
   "source": [
    "import logging\n",
    "\n",
    "# Create a formatter with a custom format pattern\n",
    "formatter = logging.Formatter(\"%(asctime)s - %(levelname)s - %(message)s\")\n",
    "\n",
    "# Create a handler and associate the formatter with it\n",
    "handler = logging.StreamHandler()\n",
    "handler.setFormatter(formatter)\n",
    "\n",
    "# Create a logger and add the handler to it\n",
    "logger = logging.getLogger(\"my_logger\")\n",
    "logger.addHandler(handler)\n",
    "\n",
    "# Set the root logger's level and add the handler\n",
    "logging.basicConfig(level=logging.DEBUG, handlers=[handler])\n",
    "\n",
    "# Log messages using the custom format\n",
    "logger.debug(\"Debug message\")\n",
    "logger.info(\"Info message\")\n",
    "logger.warning(\"Warning message\")\n"
   ]
  },
  {
   "cell_type": "markdown",
   "id": "5a0f465a",
   "metadata": {},
   "source": [
    "## 8. How can you set up logging to capture log messages from multiple modules or classes in a Python application?"
   ]
  },
  {
   "cell_type": "code",
   "execution_count": 12,
   "id": "ac57bd05",
   "metadata": {},
   "outputs": [],
   "source": [
    "#module1.py\n",
    "\n",
    "import logging\n",
    "\n",
    "logger = logging.getLogger(__name__)\n",
    "logger.setLevel(logging.DEBUG)\n",
    "\n",
    "handler = logging.StreamHandler()\n",
    "formatter = logging.Formatter(\"%(asctime)s - %(levelname)s - %(message)s\")\n",
    "handler.setFormatter(formatter)\n",
    "\n",
    "logger.addHandler(handler)\n",
    "\n",
    "def some_function():\n",
    "    logger.debug(\"Debug message from module1\")\n"
   ]
  },
  {
   "cell_type": "code",
   "execution_count": 13,
   "id": "59f1f6f0",
   "metadata": {},
   "outputs": [],
   "source": [
    "#module2\n",
    "import logging\n",
    "\n",
    "logger = logging.getLogger(__name__)\n",
    "logger.setLevel(logging.INFO)\n",
    "\n",
    "handler = logging.StreamHandler()\n",
    "formatter = logging.Formatter(\"%(asctime)s - %(levelname)s - %(message)s\")\n",
    "handler.setFormatter(formatter)\n",
    "\n",
    "logger.addHandler(handler)\n",
    "\n",
    "class SomeClass:\n",
    "    def __init__(self):\n",
    "        self.logger = logging.getLogger(__name__)\n",
    "\n",
    "    def some_method(self):\n",
    "        self.logger.info(\"Info message from SomeClass\")\n"
   ]
  },
  {
   "cell_type": "code",
   "execution_count": null,
   "id": "91056533",
   "metadata": {},
   "outputs": [],
   "source": [
    "#main.py\n",
    "import logging\n",
    "import module1\n",
    "import module2\n",
    "\n",
    "# Set the root logger's level and add a handler\n",
    "logging.basicConfig(level=logging.DEBUG)\n",
    "\n",
    "module1.some_function()\n",
    "\n",
    "obj = module2.SomeClass()\n",
    "obj.some_method()"
   ]
  },
  {
   "cell_type": "markdown",
   "id": "5109a115",
   "metadata": {},
   "source": [
    "## 9. What is the difference between the logging and print statements in Python? When should you use logging over print statements in a real-world application?\n",
    "\n",
    "**Print Statements:**\n",
    "\n",
    "Print statements are used for displaying simple output to the console during program execution.\n",
    "Print statements do not provide different log levels or configurable output destinations like logging.\n",
    "Print statements are typically used for quick debugging or temporary output during development.\n",
    "Print statements do not provide features like filtering, log message formatting, or contextual information.\n",
    "\n",
    "**Logging:**\n",
    "\n",
    "Logging is a powerful mechanism specifically designed for capturing and managing log messages in a structured and configurable way.\n",
    "Logging provides various log levels (e.g., DEBUG, INFO, WARNING, ERROR, CRITICAL) to categorize log messages based on their severity.\n",
    "Log messages can be directed to different output destinations, such as the console, files, or external services.\n",
    "Logging allows you to customize the log message format, include timestamps, log levels, and other relevant information.\n",
    "Logging supports filtering and controlling the verbosity of log messages based on their importance."
   ]
  },
  {
   "cell_type": "markdown",
   "id": "a0a0843a",
   "metadata": {},
   "source": [
    "## 10. Write a Python program that logs a message to a file named \"app.log\" with the following requirements:\n",
    "● The log message should be \"Hello, World!\"\n",
    "\n",
    "● The log level should be set to \"INFO.\"\n",
    "\n",
    "● The log file should append new log entries without overwriting previous ones."
   ]
  },
  {
   "cell_type": "code",
   "execution_count": 31,
   "id": "e0a58d42",
   "metadata": {},
   "outputs": [
    {
     "name": "stderr",
     "output_type": "stream",
     "text": [
      "2023-07-05 23:33:26,802 - INFO - Hello, World!\n",
      "2023-07-05 23:33:26,802 - INFO - Hello, World!\n",
      "INFO:__main__:Hello, World!\n"
     ]
    }
   ],
   "source": [
    "import logging\n",
    "\n",
    "# Create logger\n",
    "logger = logging.getLogger(__name__)\n",
    "logger.setLevel(logging.INFO)\n",
    "\n",
    "# Create file handler\n",
    "file_handler = logging.FileHandler('app.log')\n",
    "file_handler.setLevel(logging.INFO)\n",
    "\n",
    "# Create formatter\n",
    "formatter = logging.Formatter('%(asctime)s - %(levelname)s - %(message)s')\n",
    "\n",
    "# Set formatter for file handler\n",
    "file_handler.setFormatter(formatter)\n",
    "\n",
    "# Add file handler to logger\n",
    "logger.addHandler(file_handler)\n",
    "\n",
    "# Log the message\n",
    "logger.info('Hello, World!')\n"
   ]
  },
  {
   "cell_type": "markdown",
   "id": "04c2acec",
   "metadata": {},
   "source": [
    "## 11. Create a Python program that logs an error message to the console and a file named \"errors.log\" if an exception occurs during the program's execution. The error message should include the exception type and a timestamp."
   ]
  },
  {
   "cell_type": "code",
   "execution_count": 42,
   "id": "9763f8ff",
   "metadata": {},
   "outputs": [
    {
     "name": "stdout",
     "output_type": "stream",
     "text": [
      "Enter the first number: 2\n",
      "Enter the second number: 0\n"
     ]
    },
    {
     "name": "stderr",
     "output_type": "stream",
     "text": [
      "2023-07-05 23:48:38,494 - ERROR - Exception of type ZeroDivisionError occurred at 2023-07-05 23:48:38.494662: division by zero\n",
      "2023-07-05 23:48:38,494 - ERROR - Exception of type ZeroDivisionError occurred at 2023-07-05 23:48:38.494662: division by zero\n",
      "2023-07-05 23:48:38,494 - ERROR - Exception of type ZeroDivisionError occurred at 2023-07-05 23:48:38.494662: division by zero\n",
      "2023-07-05 23:48:38,494 - ERROR - Exception of type ZeroDivisionError occurred at 2023-07-05 23:48:38.494662: division by zero\n",
      "2023-07-05 23:48:38,494 - ERROR - Exception of type ZeroDivisionError occurred at 2023-07-05 23:48:38.494662: division by zero\n",
      "2023-07-05 23:48:38,494 - ERROR - Exception of type ZeroDivisionError occurred at 2023-07-05 23:48:38.494662: division by zero\n",
      "2023-07-05 23:48:38,494 - ERROR - Exception of type ZeroDivisionError occurred at 2023-07-05 23:48:38.494662: division by zero\n",
      "2023-07-05 23:48:38,494 - ERROR - Exception of type ZeroDivisionError occurred at 2023-07-05 23:48:38.494662: division by zero\n",
      "ERROR:__main__:Exception of type ZeroDivisionError occurred at 2023-07-05 23:48:38.494662: division by zero\n"
     ]
    }
   ],
   "source": [
    "import logging\n",
    "\n",
    "# Create logger\n",
    "logger = logging.getLogger(__name__)\n",
    "logger.setLevel(logging.ERROR)\n",
    "\n",
    "# Create file handler\n",
    "file_handler = logging.FileHandler('errors1.log')\n",
    "file_handler.setLevel(logging.ERROR)\n",
    "\n",
    "\n",
    "console_handler = logging.StreamHandler()\n",
    "console_handler.setLevel(logging.INFO)\n",
    "\n",
    "\n",
    "# Create formatter\n",
    "formatter = logging.Formatter('%(asctime)s - %(levelname)s - %(message)s')\n",
    "\n",
    "# Set formatter for file handler\n",
    "file_handler.setFormatter(formatter)\n",
    "console_handler.setFormatter(formatter)\n",
    "\n",
    "# Add file handler to logger\n",
    "logger.addHandler(file_handler)\n",
    "logger.addHandler(console_handler)\n",
    "\n",
    "\n",
    "try:\n",
    "    # Code that may raise an exception\n",
    "    num1 = int(input(\"Enter the first number: \"))\n",
    "    num2 = int(input(\"Enter the second number: \"))\n",
    "\n",
    "    result = num1 / num2\n",
    "    print(\"Result:\", result)\n",
    "\n",
    "except Exception as e:\n",
    "    # Log the error message with exception type and timestamp\n",
    "    error_message = f\"Exception of type {type(e).__name__} occurred at {datetime.datetime.now()}: {str(e)}\"\n",
    "    logger.error(error_message)\n",
    "\n"
   ]
  }
 ],
 "metadata": {
  "kernelspec": {
   "display_name": "Python 3 (ipykernel)",
   "language": "python",
   "name": "python3"
  },
  "language_info": {
   "codemirror_mode": {
    "name": "ipython",
    "version": 3
   },
   "file_extension": ".py",
   "mimetype": "text/x-python",
   "name": "python",
   "nbconvert_exporter": "python",
   "pygments_lexer": "ipython3",
   "version": "3.10.9"
  }
 },
 "nbformat": 4,
 "nbformat_minor": 5
}
