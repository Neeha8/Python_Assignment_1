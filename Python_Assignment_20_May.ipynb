{
 "cells": [
  {
   "cell_type": "markdown",
   "id": "0da27ec9",
   "metadata": {},
   "source": [
    "## Q.1. What are keywords in python? Using the keyword library, print all the python keywords.\n",
    "\n",
    "Keywords are reserved words in python"
   ]
  },
  {
   "cell_type": "code",
   "execution_count": 6,
   "id": "82c63f63",
   "metadata": {},
   "outputs": [
    {
     "data": {
      "text/plain": [
       "['False',\n",
       " 'None',\n",
       " 'True',\n",
       " 'and',\n",
       " 'as',\n",
       " 'assert',\n",
       " 'async',\n",
       " 'await',\n",
       " 'break',\n",
       " 'class',\n",
       " 'continue',\n",
       " 'def',\n",
       " 'del',\n",
       " 'elif',\n",
       " 'else',\n",
       " 'except',\n",
       " 'finally',\n",
       " 'for',\n",
       " 'from',\n",
       " 'global',\n",
       " 'if',\n",
       " 'import',\n",
       " 'in',\n",
       " 'is',\n",
       " 'lambda',\n",
       " 'nonlocal',\n",
       " 'not',\n",
       " 'or',\n",
       " 'pass',\n",
       " 'raise',\n",
       " 'return',\n",
       " 'try',\n",
       " 'while',\n",
       " 'with',\n",
       " 'yield']"
      ]
     },
     "execution_count": 6,
     "metadata": {},
     "output_type": "execute_result"
    }
   ],
   "source": [
    "import keyword\n",
    "keyword.kwlist"
   ]
  },
  {
   "cell_type": "markdown",
   "id": "ee91e129",
   "metadata": {},
   "source": [
    "## Q.2. What are the rules to create variables in python?\n",
    "\n",
    "Variable names can contain letters (a-z, A-Z), digits (0-9), and underscore (_).\n",
    "The first character of a variable name cannot be a digit. It must be a letter or an underscore.\n",
    "\n",
    "Variable names are case-sensitive, so myVariable and myvariable are considered different variables.\n",
    "Reserved Keywords:\n",
    "\n",
    "We cannot use reserved keywords as variable names. These keywords have special meanings in Python and are used for specific purposes. \n",
    "\n",
    "Examples of reserved keywords include if, else, for, while, def, class, and so on.\n",
    "\n"
   ]
  },
  {
   "cell_type": "markdown",
   "id": "34a5c80e",
   "metadata": {},
   "source": [
    "## Q.3. What are the standards and conventions followed for the nomenclature of variables in python to improve code readability and maintainability?\n",
    "\n",
    "Variable names can contain letters (a-z, A-Z), digits (0-9), and underscore (_). The first character of a variable name cannot be a digit. It must be a letter or an underscore.\n",
    "\n",
    "Variable names are case-sensitive, so myVariable and myvariable are considered different variables. Reserved Keywords:\n",
    "\n",
    "We cannot use reserved keywords as variable names. These keywords have special meanings in Python and are used for specific purposes.\n",
    "\n",
    "Examples of reserved keywords include if, else, for, while, def, class, and so on."
   ]
  },
  {
   "cell_type": "markdown",
   "id": "6155800a",
   "metadata": {},
   "source": [
    "## Q.4. What will happen if a keyword is used as a variable name?"
   ]
  },
  {
   "cell_type": "code",
   "execution_count": 42,
   "id": "0e4676ea",
   "metadata": {},
   "outputs": [
    {
     "ename": "SyntaxError",
     "evalue": "invalid syntax (4048098288.py, line 1)",
     "output_type": "error",
     "traceback": [
      "\u001b[1;36m  Cell \u001b[1;32mIn[42], line 1\u001b[1;36m\u001b[0m\n\u001b[1;33m    if = 2\u001b[0m\n\u001b[1;37m       ^\u001b[0m\n\u001b[1;31mSyntaxError\u001b[0m\u001b[1;31m:\u001b[0m invalid syntax\n"
     ]
    }
   ],
   "source": [
    "if = 2 # error"
   ]
  },
  {
   "cell_type": "markdown",
   "id": "5df7bbe8",
   "metadata": {},
   "source": [
    "## Q.5. For what purpose def keyword is used?\n",
    "\n",
    "The def keyword in Python is used to define a function. It is followed by the function name and a pair of parentheses (). Functions are reusable blocks of code that perform a specific task. They allow you to organize your code into modular and reusable units\n",
    "\n",
    "def function_name(arguments):\n",
    "\n",
    "    # Function body\n",
    "    # Code to be executed when the function is called\n",
    "    # Optional return statement\n"
   ]
  },
  {
   "cell_type": "markdown",
   "id": "7a5e9aea",
   "metadata": {},
   "source": [
    "## Q.6. What is the operation of this special character ‘\\’?\n",
    "\n",
    "The backslash character \\ is used as an escape character. It allows you to include special characters in strings or represent certain characters or sequences. \n",
    "\n",
    "**Uses of the backslash:**\n",
    "\n",
    "**Escape Sequences:**\n",
    "\n",
    "\\n: Represents a newline character.\n",
    "\\t: Represents a tab character.\n",
    "\\\": Represents a double quote character within a string.\n",
    "\\': Represents a single quote character within a string.\n",
    "\\\\: Represents a literal backslash character within a string.\n",
    "\n",
    "**Unicode Escapes:**\n",
    "\n",
    "\\uXXXX: Represents a Unicode character specified by the four hexadecimal digits XXXX.\n",
    "\\UXXXXXXXX: Represents a Unicode character specified by the eight hexadecimal digits XXXXXXXX.\n",
    "\n",
    "**Line Continuation:**\n",
    "\n",
    "result = 10 + 20 \\\n",
    "         + 30 + 40\n"
   ]
  },
  {
   "cell_type": "markdown",
   "id": "b7635892",
   "metadata": {},
   "source": [
    "## Q.7. Give an example of the following conditions:\n",
    "### (i) Homogeneous list\n",
    "\n",
    "A homogeneous list is a list that contains elements of the same data type\n",
    "\n",
    "my_list = [1, 2, 3, 4, 5]\n",
    "\n",
    "\n",
    "### (ii) Heterogeneous set\n",
    "\n",
    "A heterogeneous set is a set that contains elements of different data types\n",
    "\n",
    "my_set = {1, 2.5, 'Hello', True}\n",
    "\n",
    "\n",
    "### (iii) Homogeneous tuple\n",
    "\n",
    "A homogeneous tuple is a tuple that contains elements of the same data type\n",
    "\n",
    "my_tuple = ('apple', 'banana', 'cherry', 'date')\n"
   ]
  },
  {
   "cell_type": "markdown",
   "id": "1e11f872",
   "metadata": {},
   "source": [
    "## Q.8. Explain the mutable and immutable data types with proper explanation & examples.\n",
    "\n",
    "**Immutable data types** are those whose values cannot be modified once they are created.\n",
    "\n",
    "**Examples of immutable data types:** integers (int), floating-point numbers (float), booleans (bool), strings (str), and tuples (tuple).\n",
    "\n",
    "**Mutable data types** are those whose values can be modified after they are created\n",
    "\n",
    "**Examples of mutable data types:** include lists (list), dictionaries (dict), and sets (set)."
   ]
  },
  {
   "cell_type": "markdown",
   "id": "1475fca8",
   "metadata": {},
   "source": [
    "## Q.9. Write a code to create the given structure using only for loop.\n"
   ]
  },
  {
   "cell_type": "code",
   "execution_count": 36,
   "id": "87e58b6f",
   "metadata": {},
   "outputs": [
    {
     "name": "stdout",
     "output_type": "stream",
     "text": [
      "    *\n",
      "   ***\n",
      "  *****\n",
      " *******\n",
      "*********\n"
     ]
    }
   ],
   "source": [
    "k=1\n",
    "n=4\n",
    "for i in range(0,5):\n",
    "    for j in range(0,k):\n",
    "        if(j==0):\n",
    "            print(\" \"*n+\"*\", end=\"\")\n",
    "        else:\n",
    "            print(\"*\", end=\"\")\n",
    "        \n",
    "    k=k+2\n",
    "    n=n-1\n",
    "    print()"
   ]
  },
  {
   "cell_type": "markdown",
   "id": "06577d0a",
   "metadata": {},
   "source": [
    "## Q.10. Write a code to create the given structure using while loop.\n"
   ]
  },
  {
   "cell_type": "code",
   "execution_count": 40,
   "id": "71d47d6e",
   "metadata": {},
   "outputs": [
    {
     "name": "stdout",
     "output_type": "stream",
     "text": [
      "|||||||||\n",
      " |||||||\n",
      "  |||||\n",
      "   |||\n",
      "    |\n"
     ]
    }
   ],
   "source": [
    "k=9\n",
    "n=0\n",
    "for i in range(0,5):\n",
    "    for j in range(0,k):\n",
    "        if(j==0):\n",
    "            print(\" \"*n+\"|\", end=\"\")\n",
    "        else:\n",
    "            print(\"|\", end=\"\")\n",
    "      \n",
    "        \n",
    "    n=n+1\n",
    "    k=k-2\n",
    "    \n",
    "    print()"
   ]
  }
 ],
 "metadata": {
  "kernelspec": {
   "display_name": "Python 3 (ipykernel)",
   "language": "python",
   "name": "python3"
  },
  "language_info": {
   "codemirror_mode": {
    "name": "ipython",
    "version": 3
   },
   "file_extension": ".py",
   "mimetype": "text/x-python",
   "name": "python",
   "nbconvert_exporter": "python",
   "pygments_lexer": "ipython3",
   "version": "3.10.9"
  }
 },
 "nbformat": 4,
 "nbformat_minor": 5
}
