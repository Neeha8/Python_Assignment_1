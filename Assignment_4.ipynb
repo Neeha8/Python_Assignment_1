{
 "cells": [
  {
   "cell_type": "markdown",
   "id": "f7783134",
   "metadata": {},
   "source": [
    "## 1. What exactly is []?\n",
    "\n",
    "In Python, [] is an empty list literal. It represents an empty list, which is a mutable, ordered collection of elements. A list is a versatile data structure that can hold objects of different types, including other lists."
   ]
  },
  {
   "cell_type": "markdown",
   "id": "34884a22",
   "metadata": {},
   "source": [
    "## 2. In a list of values stored in a variable called spam, how would you assign the value 'hello'as the third value? (Assume [2, 4, 6, 8, 10] are in spam.)"
   ]
  },
  {
   "cell_type": "code",
   "execution_count": 1,
   "id": "4e00b9a8",
   "metadata": {},
   "outputs": [],
   "source": [
    "spam =[2,4,6,8,10]\n",
    "spam[2]=\"hell0\""
   ]
  },
  {
   "cell_type": "code",
   "execution_count": 2,
   "id": "d6977848",
   "metadata": {},
   "outputs": [
    {
     "data": {
      "text/plain": [
       "[2, 4, 'hell0', 8, 10]"
      ]
     },
     "execution_count": 2,
     "metadata": {},
     "output_type": "execute_result"
    }
   ],
   "source": [
    "spam"
   ]
  },
  {
   "cell_type": "markdown",
   "id": "ff29311c",
   "metadata": {},
   "source": [
    "##  Let's pretend the spam includes the list ['a', 'b','c',';d' for the next three queries.\n",
    "## 3. What is the value of spam[int(int('3' * 2) / 11)]?"
   ]
  },
  {
   "cell_type": "code",
   "execution_count": 4,
   "id": "2146b71d",
   "metadata": {},
   "outputs": [
    {
     "data": {
      "text/plain": [
       "'d'"
      ]
     },
     "execution_count": 4,
     "metadata": {},
     "output_type": "execute_result"
    }
   ],
   "source": [
    "spam=['a','b','c','d']\n",
    "spam[int(int('3' * 2) / 11)]"
   ]
  },
  {
   "cell_type": "markdown",
   "id": "fd0f67cc",
   "metadata": {},
   "source": [
    "## 4. What is the value of spam[-1]?"
   ]
  },
  {
   "cell_type": "code",
   "execution_count": 8,
   "id": "8e176144",
   "metadata": {},
   "outputs": [
    {
     "data": {
      "text/plain": [
       "'d'"
      ]
     },
     "execution_count": 8,
     "metadata": {},
     "output_type": "execute_result"
    }
   ],
   "source": [
    "spam[-1] #negative indexing starts with -1"
   ]
  },
  {
   "cell_type": "markdown",
   "id": "2bbd36ba",
   "metadata": {},
   "source": [
    "## 5. What is the value of spam[:2]?\n"
   ]
  },
  {
   "cell_type": "code",
   "execution_count": 9,
   "id": "ab6399c4",
   "metadata": {},
   "outputs": [
    {
     "data": {
      "text/plain": [
       "['a', 'b']"
      ]
     },
     "execution_count": 9,
     "metadata": {},
     "output_type": "execute_result"
    }
   ],
   "source": [
    "spam[:2] # slicing start from 0 end (2-1), default step=1"
   ]
  },
  {
   "cell_type": "markdown",
   "id": "004a5af9",
   "metadata": {},
   "source": [
    "\n",
    "## Let's pretend bacon has the list [3.14, 'cat', 11, 'cat', True] for the next three questions.\n",
    "\n",
    "## 6. What is the value of bacon.index('cat')?"
   ]
  },
  {
   "cell_type": "code",
   "execution_count": 10,
   "id": "d2f353fc",
   "metadata": {},
   "outputs": [
    {
     "data": {
      "text/plain": [
       "1"
      ]
     },
     "execution_count": 10,
     "metadata": {},
     "output_type": "execute_result"
    }
   ],
   "source": [
    "bacon=[3.14, 'cat', 11, 'cat', True]\n",
    "\n",
    "bacon.index('cat') # retruns the index of given value"
   ]
  },
  {
   "cell_type": "markdown",
   "id": "027cb10e",
   "metadata": {},
   "source": [
    "## 7. How does bacon.append(99) change the look of the list value in bacon?"
   ]
  },
  {
   "cell_type": "code",
   "execution_count": 11,
   "id": "71c41a77",
   "metadata": {},
   "outputs": [],
   "source": [
    "bacon.append(99) # add 99 at the last of the list"
   ]
  },
  {
   "cell_type": "code",
   "execution_count": 12,
   "id": "ce229ddb",
   "metadata": {},
   "outputs": [
    {
     "data": {
      "text/plain": [
       "[3.14, 'cat', 11, 'cat', True, 99]"
      ]
     },
     "execution_count": 12,
     "metadata": {},
     "output_type": "execute_result"
    }
   ],
   "source": [
    "bacon"
   ]
  },
  {
   "cell_type": "markdown",
   "id": "2d185da6",
   "metadata": {},
   "source": [
    "## 8. How does bacon.remove('cat') change the look of the list in bacon?"
   ]
  },
  {
   "cell_type": "code",
   "execution_count": 13,
   "id": "a87670e4",
   "metadata": {},
   "outputs": [
    {
     "data": {
      "text/plain": [
       "[3.14, 11, 'cat', True, 99]"
      ]
     },
     "execution_count": 13,
     "metadata": {},
     "output_type": "execute_result"
    }
   ],
   "source": [
    "bacon.remove('cat') # remove cat in the list 1 time\n",
    "bacon"
   ]
  },
  {
   "cell_type": "markdown",
   "id": "b8796e6e",
   "metadata": {},
   "source": [
    "## 9. What are the list concatenation and list replication operators?\n",
    "\n",
    "The **list concatenation** operator in Python is the + operator, and the **list replication** operator is the * operator.\n",
    "\n",
    "list1 = [1, 2, 3]\n",
    "list2 = [4, 5, 6]\n",
    "\n",
    "concatenated_list = list1 + list2\n",
    "\n",
    "print(concatenated_list)  # Output: [1, 2, 3, 4, 5, 6]\n",
    "\n",
    "original_list = [1, 2, 3]\n",
    "\n",
    "replicated_list = original_list * 3\n",
    "\n",
    "print(replicated_list)  # Output: [1, 2, 3, 1, 2, 3, 1, 2, 3]\n"
   ]
  },
  {
   "cell_type": "markdown",
   "id": "b6ebc412",
   "metadata": {},
   "source": [
    "## 10. What is difference between the list methods append() and insert()?\n",
    "\n",
    "**append()** method is used to add an element to the end of a list.\n",
    "\n",
    "my_list = [1, 2, 3]\n",
    "\n",
    "my_list.append(4)\n",
    "\n",
    "print(my_list)  # Output: [1, 2, 3, 4]\n",
    "\n",
    "**insert()** method is used to add an element at a specific position in a list\n",
    "\n",
    "my_list = [1, 2, 3]\n",
    "\n",
    "my_list.insert(1, 'a')\n",
    "\n",
    "print(my_list)  # Output: [1, 'a', 2, 3]\n",
    "\n"
   ]
  },
  {
   "cell_type": "markdown",
   "id": "7882497a",
   "metadata": {},
   "source": [
    "## 11. What are the two methods for removing items from a list?\n",
    "\n",
    "**remove()** method is used to remove the first occurrence of a specific value from a list. It takes a single argument, which is the value to be removed\n",
    "\n",
    "my_list = [1, 2, 3, 2, 4]\n",
    "\n",
    "my_list.remove(2)\n",
    "\n",
    "print(my_list)  # Output: [1, 3, 2, 4]\n",
    "\n",
    "**pop()** method is used to remove an item from a list based on its index. It takes an optional argument, which is the index of the item to be removed. If no index is provided, pop() removes and returns the last item in the list.\n",
    "\n",
    "my_list = ['a', 'b', 'c']\n",
    "\n",
    "removed_item = my_list.pop(1)\n",
    "\n",
    "print(my_list)        # Output: ['a', 'c']\n",
    "\n",
    "print(removed_item)   # Output: 'b'\n"
   ]
  },
  {
   "cell_type": "markdown",
   "id": "104b7a29",
   "metadata": {},
   "source": [
    "## 12. Describe how list values and string values are identical.\n",
    "\n",
    "**Indexing:** Both lists and strings allow access to individual elements through indexing. \n",
    "\n",
    "**Slicing:** Lists and strings support slicing, which means we can extract sub-sequences by specifying a range of indices. \n",
    "\n",
    "**Iteration:** Lists and strings can be iterated over using loops. \n",
    "\n",
    "**Concatenation:** Both lists and strings can be concatenated using the + operator.\n",
    "\n",
    "**Length:** determine the length of a list or a string using the len() function"
   ]
  },
  {
   "cell_type": "markdown",
   "id": "d577f0d4",
   "metadata": {},
   "source": [
    "## 13. What's the difference between tuples and lists?\n",
    "\n",
    "**Tuples** are immutable datatype\n",
    "\n",
    "**Lists** are Mutable datatype"
   ]
  },
  {
   "cell_type": "markdown",
   "id": "85977b34",
   "metadata": {},
   "source": [
    "## 14. How do you type a tuple value that only contains the integer 42?"
   ]
  },
  {
   "cell_type": "code",
   "execution_count": 14,
   "id": "940e0dad",
   "metadata": {},
   "outputs": [
    {
     "data": {
      "text/plain": [
       "(42,)"
      ]
     },
     "execution_count": 14,
     "metadata": {},
     "output_type": "execute_result"
    }
   ],
   "source": [
    "my_tuple = (42,)\n",
    "my_tuple"
   ]
  },
  {
   "cell_type": "markdown",
   "id": "63d3cd32",
   "metadata": {},
   "source": [
    "## 15. How do you get a list value's tuple form? How do you get a tuple value's list form?\n",
    "\n",
    "**list value to its tuple form in Python** using tuple()\n",
    "\n",
    "my_list = [1, 2, 3, 4, 5]\n",
    "\n",
    "my_tuple = tuple(my_list)\n",
    "\n",
    "print(my_tuple) # output (1,2,3,4,5)\n",
    "\n",
    "**tuple value to its list form in Python** using list()\n",
    "\n",
    "my_tuple = (1, 2, 3, 4, 5)\n",
    "\n",
    "my_list = list(my_list)\n",
    "\n",
    "print(my_list) # output [1,2,3,4,5]\n"
   ]
  },
  {
   "cell_type": "markdown",
   "id": "811a066e",
   "metadata": {},
   "source": [
    "## 16. Variables that \"contain\"; list values are not necessarily lists themselves. Instead, what do they contain?\n",
    "\n",
    "my_list = [1, 2, 3]\n",
    "\n",
    "my_list is a variable that \"contains\" a list value. However, it does not store the list directly. Instead, it holds a reference to the list object stored in memory. The variable my_list acts as a label or name that points to the actual list object\n",
    "\n",
    "both my_list and new_list are separate variables, but they refer to the same list object in memory. Any modifications made to the list through one variable will be reflected when accessing it through the other variable."
   ]
  },
  {
   "cell_type": "code",
   "execution_count": 15,
   "id": "450d755a",
   "metadata": {},
   "outputs": [],
   "source": [
    "my_list=[1,2,3]\n",
    "new_list=my_list"
   ]
  },
  {
   "cell_type": "code",
   "execution_count": 16,
   "id": "78f4d858",
   "metadata": {},
   "outputs": [],
   "source": [
    "new_list[1]=5"
   ]
  },
  {
   "cell_type": "code",
   "execution_count": 17,
   "id": "1a5a5270",
   "metadata": {},
   "outputs": [
    {
     "data": {
      "text/plain": [
       "[1, 5, 3]"
      ]
     },
     "execution_count": 17,
     "metadata": {},
     "output_type": "execute_result"
    }
   ],
   "source": [
    "my_list"
   ]
  },
  {
   "cell_type": "markdown",
   "id": "040b7682",
   "metadata": {},
   "source": [
    "## 17. How do you distinguish between copy.copy() and copy.deepcopy()?\n",
    "\n",
    "**copy.copy()** creates a shallow copy, meaning that the new object references the same child objects as the original object. On the other hand, **copy.deepcopy()** creates a deep copy, creating completely independent copies of all child objects."
   ]
  },
  {
   "cell_type": "code",
   "execution_count": 18,
   "id": "31cbba6f",
   "metadata": {},
   "outputs": [
    {
     "name": "stdout",
     "output_type": "stream",
     "text": [
      "[5, 2, [6, 4]]\n",
      "[1, 2, [6, 4]]\n"
     ]
    }
   ],
   "source": [
    "import copy\n",
    "\n",
    "original_list = [1, 2, [3, 4]]\n",
    "copied_list = copy.copy(original_list)\n",
    "\n",
    "original_list[0] = 5\n",
    "original_list[2][0] = 6\n",
    "\n",
    "print(original_list)  # Output: [5, 2, [6, 4]]\n",
    "print(copied_list)    # Output: [1, 2, [6, 4]]\n"
   ]
  },
  {
   "cell_type": "code",
   "execution_count": 19,
   "id": "396a1cae",
   "metadata": {},
   "outputs": [
    {
     "name": "stdout",
     "output_type": "stream",
     "text": [
      "[5, 2, [6, 4]]\n",
      "[1, 2, [3, 4]]\n"
     ]
    }
   ],
   "source": [
    "import copy\n",
    "\n",
    "original_list = [1, 2, [3, 4]]\n",
    "deepcopied_list = copy.deepcopy(original_list)\n",
    "\n",
    "original_list[0] = 5\n",
    "original_list[2][0] = 6\n",
    "\n",
    "print(original_list)    # Output: [5, 2, [6, 4]]\n",
    "print(deepcopied_list)  # Output: [1, 2, [3, 4]]\n"
   ]
  }
 ],
 "metadata": {
  "kernelspec": {
   "display_name": "Python 3 (ipykernel)",
   "language": "python",
   "name": "python3"
  },
  "language_info": {
   "codemirror_mode": {
    "name": "ipython",
    "version": 3
   },
   "file_extension": ".py",
   "mimetype": "text/x-python",
   "name": "python",
   "nbconvert_exporter": "python",
   "pygments_lexer": "ipython3",
   "version": "3.10.9"
  }
 },
 "nbformat": 4,
 "nbformat_minor": 5
}
