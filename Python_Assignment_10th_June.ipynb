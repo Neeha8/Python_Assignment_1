{
 "cells": [
  {
   "cell_type": "markdown",
   "id": "faa1d489",
   "metadata": {},
   "source": [
    "## 1. In Python, what is the difference between a built-in function and a user-defined function? Provide an example of each.\n",
    "\n",
    "**Built-in Function:**\n",
    "\n",
    "Built-in functions are pre-defined functions provided by Python as part of its standard library. \n",
    "\n",
    "**Examples of built-in functions:** include print(), len(), input(), str(), int(), max(), min(), and many more.\n",
    "\n",
    "my_string = \"Hello, World!\"\n",
    "\n",
    "length = len(my_string)\n",
    "\n",
    "print(length)  # Output: 13\n",
    "\n",
    "\n",
    "**User-defined Function:**\n",
    "\n",
    "User-defined functions are created by users to fulfill specific requirements or to encapsulate a set of instructions into a reusable block of code.\n",
    "\n",
    "def square(num):\n",
    "\n",
    "    return num ** 2\n",
    "\n",
    "result = square(5)\n",
    "\n",
    "print(result)  # Output: 25\n"
   ]
  },
  {
   "cell_type": "markdown",
   "id": "7ef6de56",
   "metadata": {},
   "source": [
    "## 2. How can you pass arguments to a function in Python? Explain the difference between positional arguments and keyword arguments.\n",
    "\n",
    "**Positional Arguments:**\n",
    "\n",
    "Positional arguments are passed to a function based on their position or order.\n",
    "\n",
    "def greet(name, age):\n",
    "\n",
    "    print(f\"Hello, {name}! You are {age} years old.\")\n",
    "\n",
    "greet(\"abc\", 25)\n",
    "\n",
    "\n",
    "**Keyword Arguments:**\n",
    "\n",
    "Keyword arguments are passed to a function using the argument name along with its corresponding value.\n",
    "\n",
    "Instead of relying on the order, we can explicitly mention the parameter names and provide their respective values when calling the function.\n",
    "\n",
    "def greet(name, age):\n",
    "\n",
    "    print(f\"Hello, {name}! You are {age} years old.\")\n",
    "\n",
    "greet(age=30, name=\"Bob\")\n"
   ]
  },
  {
   "cell_type": "markdown",
   "id": "758184cf",
   "metadata": {},
   "source": [
    "## 3. What is the purpose of the return statement in a function? Can a function have multiple return statements? Explain with an example.\n",
    "\n",
    "The purpose of the return statement in a function is to specify the value(s) that the function should output or \"return\" when it is called\n",
    "\n",
    "A function can indeed have multiple return statements, but only one of them is executed when the function is called. When a return statement is encountered, it immediately terminates the function and sends the specified value back to the caller.\n",
    "\n"
   ]
  },
  {
   "cell_type": "code",
   "execution_count": 8,
   "id": "1c3ec3ae",
   "metadata": {},
   "outputs": [
    {
     "name": "stdout",
     "output_type": "stream",
     "text": [
      "Low\n",
      "High\n",
      "None\n"
     ]
    }
   ],
   "source": [
    "def calculate_average(numbers):\n",
    "    if len(numbers) == 0:\n",
    "        return None  # Return None if the list is empty\n",
    "\n",
    "    total = sum(numbers)\n",
    "    average = total / len(numbers)\n",
    "\n",
    "    if average > 10:\n",
    "        return \"High\"  # Return \"High\" if the average is greater than 10\n",
    "    else:\n",
    "        return \"Low\"   # Return \"Low\" if the average is less than or equal to 10\n",
    "\n",
    "# Example function calls:\n",
    "result1 = calculate_average([8, 7, 6, 9])\n",
    "print(result1)  # Output: \"Low\"\n",
    "\n",
    "result2 = calculate_average([12, 14, 15, 10])\n",
    "print(result2)  # Output: \"High\"\n",
    "\n",
    "result3 = calculate_average([])\n",
    "print(result3)  # Output: None\n"
   ]
  },
  {
   "cell_type": "markdown",
   "id": "a1b7188e",
   "metadata": {},
   "source": [
    "## 4. What are lambda functions in Python? How are they different from regular functions? Provide an example where a lambda function can be useful.\n",
    "\n",
    "**lambda functions**, also known as **anonymous functions**, are small, one-line functions that do not have a name. They are defined using the lambda keyword and can take any number of arguments but can only have a single expression. The result of the expression is automatically returned.\n",
    "\n",
    "**syntax:**\n",
    "\n",
    "lambda arguments: expression\n",
    "\n",
    "\n",
    "Lambda functions are different from regular functions in the following ways:\n",
    "\n",
    "**Anonymous:** Lambda functions are anonymous because they don't have a specific name. They are typically used in situations where creating a named function is unnecessary or impractical.\n",
    "\n",
    "**Single Expression:** Lambda functions can only consist of a single expression. This makes them more concise compared to regular functions, which can have multiple statements and complex logic.\n",
    "\n",
    "**Function Objects:** Lambda functions create function objects that can be assigned to variables or passed as arguments to other functions. They can be used anywhere a function object is expected.\n"
   ]
  },
  {
   "cell_type": "code",
   "execution_count": 11,
   "id": "981230c6",
   "metadata": {},
   "outputs": [
    {
     "name": "stdout",
     "output_type": "stream",
     "text": [
      "12\n",
      "12\n"
     ]
    }
   ],
   "source": [
    "# Regular function\n",
    "def multiply(x, y):\n",
    "    return x * y\n",
    "\n",
    "result = multiply(3, 4)\n",
    "print(result)  # Output: 12\n",
    "\n",
    "# Equivalent lambda function\n",
    "multiply_lambda = lambda x, y: x * y\n",
    "\n",
    "result = multiply_lambda(3, 4)\n",
    "print(result)  # Output: 12\n"
   ]
  },
  {
   "cell_type": "markdown",
   "id": "e1895037",
   "metadata": {},
   "source": [
    "## 5. How does the concept of \"scope\" apply to functions in Python? Explain the difference between local scope and global scope.\n",
    "\n",
    "**Local Scope:**\n",
    "\n",
    "Local scope refers to the scope within a function or a block of code.\n",
    "Variables defined inside a function are considered to be in the local scope and are accessible only within that function.\n",
    "Local variables have their own scope and are not visible outside the function.\n",
    "Once the function execution completes, the local variables are destroyed.\n",
    "If a variable is referenced inside a function but not defined within that function, Python will look for it in the enclosing scope (e.g., in an outer function or the global scope).\n",
    "\n",
    "**Global Scope:**\n",
    "\n",
    "Global scope refers to the outermost scope of a Python program or module.\n",
    "Variables defined outside any function or block are considered to be in the global scope.\n",
    "Global variables can be accessed from anywhere within the program, including inside functions.\n",
    "Global variables have a longer lifetime and persist throughout the execution of the program.\n",
    "If a variable is modified inside a function, Python treats it as a local variable unless explicitly declared as global using the global keyword.\n"
   ]
  },
  {
   "cell_type": "code",
   "execution_count": 12,
   "id": "624ecc1f",
   "metadata": {},
   "outputs": [
    {
     "name": "stdout",
     "output_type": "stream",
     "text": [
      "10\n"
     ]
    },
    {
     "ename": "NameError",
     "evalue": "name 'x' is not defined",
     "output_type": "error",
     "traceback": [
      "\u001b[1;31m---------------------------------------------------------------------------\u001b[0m",
      "\u001b[1;31mNameError\u001b[0m                                 Traceback (most recent call last)",
      "Cell \u001b[1;32mIn[12], line 6\u001b[0m\n\u001b[0;32m      3\u001b[0m     \u001b[38;5;28mprint\u001b[39m(x)  \u001b[38;5;66;03m# Output: 10\u001b[39;00m\n\u001b[0;32m      5\u001b[0m my_function()\n\u001b[1;32m----> 6\u001b[0m \u001b[38;5;28mprint\u001b[39m(\u001b[43mx\u001b[49m)\n",
      "\u001b[1;31mNameError\u001b[0m: name 'x' is not defined"
     ]
    }
   ],
   "source": [
    "def my_function():\n",
    "    x = 10  # Local variable\n",
    "    print(x)  # Output: 10\n",
    "\n",
    "my_function()\n",
    "print(x)  # Raises NameError: name 'x' is not defined\n"
   ]
  },
  {
   "cell_type": "code",
   "execution_count": 13,
   "id": "7d9c5751",
   "metadata": {},
   "outputs": [
    {
     "name": "stdout",
     "output_type": "stream",
     "text": [
      "10\n"
     ]
    }
   ],
   "source": [
    "x = 10  # Global variable\n",
    "\n",
    "def my_function():\n",
    "    print(x)  # Output: 10\n",
    "\n",
    "my_function()\n"
   ]
  },
  {
   "cell_type": "markdown",
   "id": "4ab8abf8",
   "metadata": {},
   "source": [
    "## 6. How can you use the \"return\" statement in a Python function to return multiple values?"
   ]
  },
  {
   "cell_type": "code",
   "execution_count": 10,
   "id": "b60c4078",
   "metadata": {},
   "outputs": [
    {
     "name": "stdout",
     "output_type": "stream",
     "text": [
      "(1, 'Hello', [1, 2, 3])\n"
     ]
    }
   ],
   "source": [
    "def return_multiple_values():\n",
    "    value1 = 1\n",
    "    value2 = 'Hello'\n",
    "    value3 = [1, 2, 3]\n",
    "    return value1, value2, value3\n",
    "\n",
    "result = return_multiple_values()\n",
    "print(result)  # Output: (1, 'Hello', [1, 2, 3]) return in tuple format\n"
   ]
  },
  {
   "cell_type": "markdown",
   "id": "c80b8e6e",
   "metadata": {},
   "source": [
    "## 7. What is the difference between the \"pass by value\" and \"pass by reference\" concepts when it comes to function arguments in Python?\n",
    "\n",
    "**Immutable Objects (e.g., numbers, strings, tuples):**\n",
    "When we pass an immutable object as an argument to a function, it is effectively **passed by value**. This means that the function receives a copy of the value stored in the object, and any changes made to the parameter inside the function do not affect the original object.\n",
    "\n",
    "**Mutable Objects (e.g., lists, dictionaries, sets):**\n",
    "When we pass a mutable object as an argument to a function, it is effectively **passed by reference**. This means that the function receives a reference to the original object, and any modifications made to the parameter inside the function will affect the original object."
   ]
  },
  {
   "cell_type": "code",
   "execution_count": 7,
   "id": "4f09a2f6",
   "metadata": {},
   "outputs": [
    {
     "name": "stdout",
     "output_type": "stream",
     "text": [
      "Inside the function: 11\n",
      "Outside the function: 10\n",
      "Inside the function: [1, 2, 3, 4]\n",
      "Outside the function: [1, 2, 3, 4]\n"
     ]
    }
   ],
   "source": [
    "def modify_immutable(arg):\n",
    "    arg += 1\n",
    "    print(\"Inside the function:\", arg)\n",
    "\n",
    "def modify_mutable(arg):\n",
    "    arg.append(4)\n",
    "    print(\"Inside the function:\", arg)\n",
    "\n",
    "# Immutable object (integer)\n",
    "num = 10\n",
    "modify_immutable(num)\n",
    "print(\"Outside the function:\", num)\n",
    "\n",
    "# Mutable object (list)\n",
    "my_list = [1, 2, 3]\n",
    "modify_mutable(my_list)\n",
    "print(\"Outside the function:\", my_list)\n"
   ]
  },
  {
   "cell_type": "markdown",
   "id": "427064d6",
   "metadata": {},
   "source": [
    "## 8. Create a function that can intake integer or decimal value and do following operations:\n",
    "a. Logarithmic function (log x)\n",
    "\n",
    "b. Exponential function (exp(x))\n",
    "\n",
    "c. Power function with base 2 (2^x)\n",
    "\n",
    "d. Square root"
   ]
  },
  {
   "cell_type": "code",
   "execution_count": 6,
   "id": "a93d7745",
   "metadata": {},
   "outputs": [
    {
     "name": "stdout",
     "output_type": "stream",
     "text": [
      "Logarithmic result: 1.3862943611198906\n",
      "Exponential result: 54.598150033144236\n",
      "Power result with base 2: 16.0\n",
      "Square root result: 2.0\n"
     ]
    }
   ],
   "source": [
    "import math\n",
    "\n",
    "def perform_operations(value):\n",
    "    result_log = math.log(value)  # Logarithmic function (log x)\n",
    "    result_exp = math.exp(value)  # Exponential function (exp(x))\n",
    "    result_power = math.pow(2, value)  # Power function with base 2 (2^x)\n",
    "    result_sqrt = math.sqrt(value)  # Square root\n",
    "\n",
    "    return result_log, result_exp, result_power, result_sqrt\n",
    "\n",
    "# Example usage:\n",
    "input_value = 4\n",
    "log_result, exp_result, power_result, sqrt_result = perform_operations(input_value)\n",
    "\n",
    "print(f\"Logarithmic result: {log_result}\")\n",
    "print(f\"Exponential result: {exp_result}\")\n",
    "print(f\"Power result with base 2: {power_result}\")\n",
    "print(f\"Square root result: {sqrt_result}\")\n"
   ]
  },
  {
   "cell_type": "markdown",
   "id": "ee2a6ab3",
   "metadata": {},
   "source": [
    "## 9. Create a function that takes a full name as an argument and returns first name and last name."
   ]
  },
  {
   "cell_type": "code",
   "execution_count": 2,
   "id": "51502f64",
   "metadata": {},
   "outputs": [],
   "source": [
    "def fullname(name):\n",
    "    new_name=name.split(' ')\n",
    "    return new_name"
   ]
  },
  {
   "cell_type": "code",
   "execution_count": 5,
   "id": "95025810",
   "metadata": {},
   "outputs": [
    {
     "name": "stdout",
     "output_type": "stream",
     "text": [
      "First Name: Neeharica\n",
      "Last Name: Pallapati\n"
     ]
    }
   ],
   "source": [
    "full_name=\"Neeharica Pallapati\"\n",
    "first_name, last_name = fullname(full_name)\n",
    "print(\"First Name:\", first_name)\n",
    "print(\"Last Name:\", last_name)"
   ]
  }
 ],
 "metadata": {
  "kernelspec": {
   "display_name": "Python 3 (ipykernel)",
   "language": "python",
   "name": "python3"
  },
  "language_info": {
   "codemirror_mode": {
    "name": "ipython",
    "version": 3
   },
   "file_extension": ".py",
   "mimetype": "text/x-python",
   "name": "python",
   "nbconvert_exporter": "python",
   "pygments_lexer": "ipython3",
   "version": "3.10.9"
  }
 },
 "nbformat": 4,
 "nbformat_minor": 5
}
