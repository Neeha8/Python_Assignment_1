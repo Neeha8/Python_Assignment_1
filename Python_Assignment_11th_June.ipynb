{
 "cells": [
  {
   "cell_type": "markdown",
   "id": "d20ff26a",
   "metadata": {},
   "source": [
    "## 1. What is a lambda function in Python, and how does it differ from a regular function?\n",
    "\n",
    "lambda functions, also known as anonymous functions, are small, one-line functions that do not have a name. They are defined using the lambda keyword and can take any number of arguments but can only have a single expression. The result of the expression is automatically returned.\n",
    "\n",
    "syntax:\n",
    "\n",
    "lambda arguments: expression\n",
    "\n",
    "Lambda functions are different from regular functions in the following ways:\n",
    "\n",
    "Anonymous: Lambda functions are anonymous because they don't have a specific name. They are typically used in situations where creating a named function is unnecessary or impractical.\n",
    "\n",
    "Single Expression: Lambda functions can only consist of a single expression. This makes them more concise compared to regular functions, which can have multiple statements and complex logic.\n",
    "\n",
    "Function Objects: Lambda functions create function objects that can be assigned to variables or passed as arguments to other functions. They can be used anywhere a function object is expected."
   ]
  },
  {
   "cell_type": "code",
   "execution_count": 2,
   "id": "12af4170",
   "metadata": {},
   "outputs": [
    {
     "name": "stdout",
     "output_type": "stream",
     "text": [
      "12\n",
      "12\n"
     ]
    }
   ],
   "source": [
    "# Regular function\n",
    "def multiply(x, y):\n",
    "    return x * y\n",
    "\n",
    "result = multiply(3, 4)\n",
    "print(result)  # Output: 12\n",
    "\n",
    "# Equivalent lambda function\n",
    "multiply_lambda = lambda x, y: x * y\n",
    "\n",
    "result = multiply_lambda(3, 4)\n",
    "print(result)  # Output: 12\n"
   ]
  },
  {
   "cell_type": "markdown",
   "id": "ea966cc6",
   "metadata": {},
   "source": [
    "## 2. Can a lambda function in Python have multiple arguments? If yes, how can you define and use them?\n",
    "\n",
    "Yes, a lambda function in Python can have multiple arguments. \n",
    "\n",
    "**Syntax**\n",
    "lambda argument1, argument2, ...: expression\n",
    "\n"
   ]
  },
  {
   "cell_type": "code",
   "execution_count": 1,
   "id": "59b2fce6",
   "metadata": {},
   "outputs": [
    {
     "data": {
      "text/plain": [
       "9"
      ]
     },
     "execution_count": 1,
     "metadata": {},
     "output_type": "execute_result"
    }
   ],
   "source": [
    "addition = lambda x, y, z: x + y + z\n",
    "addition(2,3,4)"
   ]
  },
  {
   "cell_type": "markdown",
   "id": "732dc76a",
   "metadata": {},
   "source": [
    "## 3. How are lambda functions typically used in Python? Provide an example use case.\n",
    "\n",
    "Lambda functions in Python are commonly used when a small anonymous function is needed for a specific task. They are particularly useful in scenarios where a function is required as an argument to another function or when a short, one-time function is needed.\n",
    "\n"
   ]
  },
  {
   "cell_type": "code",
   "execution_count": 4,
   "id": "7e920bb9",
   "metadata": {},
   "outputs": [
    {
     "name": "stdout",
     "output_type": "stream",
     "text": [
      "[(1, 'banana'), (2, 'apple'), (5, 'orange')]\n"
     ]
    }
   ],
   "source": [
    "#Sorted--> sort the list\n",
    "my_list = [(2, 'apple'), (5, 'orange'), (1, 'banana')]\n",
    "sorted_list = sorted(my_list, key=lambda x: x[0])\n",
    "print(sorted_list)"
   ]
  },
  {
   "cell_type": "code",
   "execution_count": 6,
   "id": "3b865159",
   "metadata": {},
   "outputs": [
    {
     "name": "stdout",
     "output_type": "stream",
     "text": [
      "[1, 4, 9, 16, 25]\n"
     ]
    }
   ],
   "source": [
    "# map() function applies a given function to each item in an iterable and returns an iterator of the results\n",
    "numbers = [1, 2, 3, 4, 5]\n",
    "squared_numbers = list(map(lambda x: x ** 2, numbers))\n",
    "print(squared_numbers)"
   ]
  },
  {
   "cell_type": "code",
   "execution_count": 7,
   "id": "ab48de12",
   "metadata": {},
   "outputs": [
    {
     "name": "stdout",
     "output_type": "stream",
     "text": [
      "[2, 4]\n"
     ]
    }
   ],
   "source": [
    "# filter() function creates an iterator from elements of an iterable for which a given function returns True\n",
    "numbers = [1, 2, 3, 4, 5]\n",
    "even_numbers = list(filter(lambda x: x % 2 == 0, numbers))\n",
    "print(even_numbers)"
   ]
  },
  {
   "cell_type": "code",
   "execution_count": 8,
   "id": "6a132c1a",
   "metadata": {},
   "outputs": [
    {
     "name": "stdout",
     "output_type": "stream",
     "text": [
      "15\n"
     ]
    }
   ],
   "source": [
    "# reduce() function applies a function of two arguments cumulatively to the items of an iterable, reducing it to a single value. \n",
    "from functools import reduce\n",
    "\n",
    "numbers = [1, 2, 3, 4, 5]\n",
    "sum_of_numbers = reduce(lambda x, y: x + y, numbers)\n",
    "print(sum_of_numbers)"
   ]
  },
  {
   "cell_type": "markdown",
   "id": "1c391adf",
   "metadata": {},
   "source": [
    "## 4. What are the advantages and limitations of lambda functions compared to regular functions in Python?\n",
    "\n",
    "**Advantages of lambda functions:**\n",
    "\n",
    "**Conciseness:** Lambda functions allow you to define simple, one-line functions without the need for a formal def statement. This makes lambda functions useful for quick, inline operations.\n",
    "\n",
    "**Readability:** Lambda functions can make code more readable when used appropriately. For example, when passing a small function as an argument to another function, using a lambda function can provide a clear and concise way to express the operation.\n",
    "\n",
    "**Functionality as First-class Objects:** Lambda functions are first-class objects in Python, which means they can be assigned to variables, stored in data structures, passed as arguments to other functions, and returned as values from functions. This flexibility enables lambda functions to be used in functional programming paradigms.\n",
    "\n",
    "**Limitations of lambda functions:**\n",
    "\n",
    "**Single Expression:** Lambda functions can only contain a single expression, which means they are not suitable for complex or multi-step operations. \n",
    "\n",
    "**Lack of Documentation:** Lambda functions are anonymous functions, meaning they don't have a name. This makes them challenging to document and can make code less self-explanatory. Regular functions with descriptive names are generally preferred when code readability and documentation are important.\n",
    "\n",
    "**Limited Functionality:** Lambda functions are limited in terms of the operations they can perform. They are designed for simple, concise functions and lack features such as default arguments, variable annotations, and function signatures that regular functions provide. Regular functions offer more flexibility and robustness."
   ]
  },
  {
   "cell_type": "markdown",
   "id": "2f153fa7",
   "metadata": {},
   "source": [
    "## 5. Are lambda functions in Python able to access variables defined outside of their own scope? Explain with an example."
   ]
  },
  {
   "cell_type": "code",
   "execution_count": 10,
   "id": "d3cd7269",
   "metadata": {},
   "outputs": [
    {
     "name": "stdout",
     "output_type": "stream",
     "text": [
      "Hello, world!\n"
     ]
    }
   ],
   "source": [
    "# Yes\n",
    "\n",
    "def outer_function():\n",
    "    message = 'Hello'\n",
    "\n",
    "    inner_function = lambda: print(message + ', world!')\n",
    "\n",
    "    return inner_function\n",
    "\n",
    "my_function = outer_function()\n",
    "my_function()\n"
   ]
  },
  {
   "cell_type": "markdown",
   "id": "497f8add",
   "metadata": {},
   "source": [
    "## 6. Write a lambda function to calculate the square of a given number."
   ]
  },
  {
   "cell_type": "code",
   "execution_count": 12,
   "id": "1247de23",
   "metadata": {},
   "outputs": [
    {
     "name": "stdout",
     "output_type": "stream",
     "text": [
      "Please enter a number:2\n"
     ]
    },
    {
     "data": {
      "text/plain": [
       "4"
      ]
     },
     "execution_count": 12,
     "metadata": {},
     "output_type": "execute_result"
    }
   ],
   "source": [
    "square=lambda : int(input(\"Please enter a number:\")) ** 2\n",
    "square()"
   ]
  },
  {
   "cell_type": "markdown",
   "id": "1bf61565",
   "metadata": {},
   "source": [
    "## 7. Create a lambda function to find the maximum value in a list of integers."
   ]
  },
  {
   "cell_type": "code",
   "execution_count": 15,
   "id": "c39e536f",
   "metadata": {},
   "outputs": [
    {
     "data": {
      "text/plain": [
       "10"
      ]
     },
     "execution_count": 15,
     "metadata": {},
     "output_type": "execute_result"
    }
   ],
   "source": [
    "lst=[1,4,5,2,4,9,10,3]\n",
    "max_value=lambda x : max(lst)\n",
    "max_value(lst)"
   ]
  },
  {
   "cell_type": "code",
   "execution_count": 18,
   "id": "ddc2d9ec",
   "metadata": {},
   "outputs": [
    {
     "data": {
      "text/plain": [
       "10"
      ]
     },
     "execution_count": 18,
     "metadata": {},
     "output_type": "execute_result"
    }
   ],
   "source": [
    "from functools import reduce\n",
    "max_value1=reduce((lambda x,y: x if (x>y) else y), lst)\n",
    "max_value1"
   ]
  },
  {
   "cell_type": "markdown",
   "id": "3407e324",
   "metadata": {},
   "source": [
    "## 8. Implement a lambda function to filter out all the even numbers from a list of integers."
   ]
  },
  {
   "cell_type": "code",
   "execution_count": 21,
   "id": "1ce2924f",
   "metadata": {},
   "outputs": [
    {
     "data": {
      "text/plain": [
       "[4, 2, 4, 10]"
      ]
     },
     "execution_count": 21,
     "metadata": {},
     "output_type": "execute_result"
    }
   ],
   "source": [
    "even_num=filter((lambda x: x%2==0),lst)\n",
    "list(even_num)"
   ]
  },
  {
   "cell_type": "markdown",
   "id": "07233904",
   "metadata": {},
   "source": [
    "## 9. Write a lambda function to sort a list of strings in ascending order based on the length of each string."
   ]
  },
  {
   "cell_type": "code",
   "execution_count": 25,
   "id": "289b8137",
   "metadata": {},
   "outputs": [
    {
     "data": {
      "text/plain": [
       "['hi', 'hai', 'abcd', 'hello']"
      ]
     },
     "execution_count": 25,
     "metadata": {},
     "output_type": "execute_result"
    }
   ],
   "source": [
    "lst1=[\"hi\",\"hello\",\"hai\",\"abcd\"]\n",
    "sort_by_length=sorted(lst1, key=lambda x: len(x))\n",
    "sort_by_length"
   ]
  },
  {
   "cell_type": "markdown",
   "id": "7e8098be",
   "metadata": {},
   "source": [
    "## 10. Create a lambda function that takes two lists as input and returns a new list containing the common elements between the two lists."
   ]
  },
  {
   "cell_type": "code",
   "execution_count": 28,
   "id": "0aca6c93",
   "metadata": {},
   "outputs": [
    {
     "data": {
      "text/plain": [
       "[2, 5, 4, 9]"
      ]
     },
     "execution_count": 28,
     "metadata": {},
     "output_type": "execute_result"
    }
   ],
   "source": [
    "lst2=[2,3,1,5,4,6,9]\n",
    "lst3=[10,2,11,13,4,5,9]\n",
    "\n",
    "find_common_elements = lambda list1, list2: list(filter(lambda x: x in list2, list1))\n",
    "find_common_elements(lst2,lst3)"
   ]
  },
  {
   "cell_type": "markdown",
   "id": "7f1ff973",
   "metadata": {},
   "source": [
    "## 11. Write a recursive function to calculate the factorial of a given positive integer."
   ]
  },
  {
   "cell_type": "code",
   "execution_count": 31,
   "id": "fd66e3b5",
   "metadata": {},
   "outputs": [
    {
     "data": {
      "text/plain": [
       "120"
      ]
     },
     "execution_count": 31,
     "metadata": {},
     "output_type": "execute_result"
    }
   ],
   "source": [
    "def fact(n):\n",
    "    if(n==0):\n",
    "        return 1\n",
    "    elif(n==1):\n",
    "        return 1\n",
    "    else:\n",
    "        return n*fact(n-1)\n",
    "fact(5)"
   ]
  },
  {
   "cell_type": "markdown",
   "id": "db10281c",
   "metadata": {},
   "source": [
    "## 12. Implement a recursive function to compute the nth Fibonacci number."
   ]
  },
  {
   "cell_type": "code",
   "execution_count": 33,
   "id": "a2f6b337",
   "metadata": {},
   "outputs": [
    {
     "data": {
      "text/plain": [
       "13"
      ]
     },
     "execution_count": 33,
     "metadata": {},
     "output_type": "execute_result"
    }
   ],
   "source": [
    "def fib(n):\n",
    "    if(n==0):\n",
    "        return 0\n",
    "    elif(n==1):\n",
    "        return 1\n",
    "    else:\n",
    "        return fib(n-1)+fib(n-2)\n",
    "fib(7) # 0,1,1,2,3,5,8,13"
   ]
  },
  {
   "cell_type": "markdown",
   "id": "f782acc6",
   "metadata": {},
   "source": [
    "## 13. Create a recursive function to find the sum of all the elements in a given list."
   ]
  },
  {
   "cell_type": "code",
   "execution_count": 34,
   "id": "07656683",
   "metadata": {},
   "outputs": [
    {
     "data": {
      "text/plain": [
       "15"
      ]
     },
     "execution_count": 34,
     "metadata": {},
     "output_type": "execute_result"
    }
   ],
   "source": [
    "def recursive_sum(lst):\n",
    "    if not lst:\n",
    "        return 0\n",
    "    else:\n",
    "        return lst[0] + recursive_sum(lst[1:])\n",
    "recursive_sum([1,2,3,4,5])"
   ]
  },
  {
   "cell_type": "markdown",
   "id": "862f5deb",
   "metadata": {},
   "source": [
    "## 14. Write a recursive function to determine whether a given string is a palindrome."
   ]
  },
  {
   "cell_type": "code",
   "execution_count": 36,
   "id": "bbeec6b8",
   "metadata": {},
   "outputs": [
    {
     "data": {
      "text/plain": [
       "False"
      ]
     },
     "execution_count": 36,
     "metadata": {},
     "output_type": "execute_result"
    }
   ],
   "source": [
    "def is_palindrome(string):\n",
    "    if len(string) <= 1:\n",
    "        return True\n",
    "    elif string[0] != string[-1]:\n",
    "        return False\n",
    "    else:\n",
    "        return is_palindrome(string[1:-1])\n",
    "is_palindrome(\"Hi\")"
   ]
  },
  {
   "cell_type": "code",
   "execution_count": 37,
   "id": "774cd518",
   "metadata": {},
   "outputs": [
    {
     "data": {
      "text/plain": [
       "True"
      ]
     },
     "execution_count": 37,
     "metadata": {},
     "output_type": "execute_result"
    }
   ],
   "source": [
    "is_palindrome(\"HiiH\")"
   ]
  },
  {
   "cell_type": "markdown",
   "id": "a01aa875",
   "metadata": {},
   "source": [
    "## 15. Implement a recursive function to find the greatest common divisor (GCD) of two positive integers."
   ]
  },
  {
   "cell_type": "code",
   "execution_count": 38,
   "id": "96b34d26",
   "metadata": {},
   "outputs": [
    {
     "name": "stdout",
     "output_type": "stream",
     "text": [
      "6\n"
     ]
    }
   ],
   "source": [
    "def gcd(a, b):\n",
    "    if b == 0:\n",
    "        return a\n",
    "    else:\n",
    "        return gcd(b, a % b)\n",
    "print(gcd(48, 18))"
   ]
  }
 ],
 "metadata": {
  "kernelspec": {
   "display_name": "Python 3 (ipykernel)",
   "language": "python",
   "name": "python3"
  },
  "language_info": {
   "codemirror_mode": {
    "name": "ipython",
    "version": 3
   },
   "file_extension": ".py",
   "mimetype": "text/x-python",
   "name": "python",
   "nbconvert_exporter": "python",
   "pygments_lexer": "ipython3",
   "version": "3.10.9"
  }
 },
 "nbformat": 4,
 "nbformat_minor": 5
}
