{
 "cells": [
  {
   "cell_type": "markdown",
   "id": "d350dc8f",
   "metadata": {},
   "source": [
    "### Q.1. Create two int type variables, apply addition, subtraction, division and multiplications and store the results in variables. Then print the data in the following format by calling the variables:\n",
    "\n",
    "First variable is __ & second variable is __.\n",
    "\n",
    "Addition: __ + __ = __\n",
    "\n",
    "Subtraction: __ - __ = __\n",
    "\n",
    "Multiplication: __ * __ = __\n",
    "\n",
    "Division: __ / __ = __"
   ]
  },
  {
   "cell_type": "code",
   "execution_count": 4,
   "id": "3ae3bba6",
   "metadata": {},
   "outputs": [
    {
     "name": "stdout",
     "output_type": "stream",
     "text": [
      "First variable is 2 & second variable is 3.\n",
      "Addition: 2 + 3 = 5\n",
      "Subtraction: 2 - 3 = -1\n",
      "Multiplication: 2 * 3 = 6\n",
      "Division: 2 / 3 = 0.6666666666666666\n"
     ]
    }
   ],
   "source": [
    "a=2\n",
    "b=3\n",
    "add=a+b\n",
    "sub=a-b\n",
    "div=a/b\n",
    "mul=a*b\n",
    "\n",
    "print(f\"First variable is {a} & second variable is {b}.\")\n",
    "print(\"Addition: {} + {} = {}\".format(a,b,add))\n",
    "print(\"Subtraction: {} - {} = {}\".format(a,b,sub))\n",
    "print(\"Multiplication: {} * {} = {}\".format(a,b,mul))\n",
    "print(\"Division: {} / {} = {}\".format(a,b,div))"
   ]
  },
  {
   "cell_type": "markdown",
   "id": "a7f484a8",
   "metadata": {},
   "source": [
    "## Q.2. What is the difference between the following operators:\n",
    "\n",
    "(i) ‘/’ & ‘//’\n",
    "\n",
    "(ii) ‘**’ & ‘^’\n",
    "\n",
    "/ is the regular division operator, returning a float result.\n",
    "\n",
    "result = 7 / 2\n",
    "\n",
    "print(result)  # Output: 3.5\n",
    "\n",
    "\n",
    "// is the floor division operator, returning an integer result (floor value).\n",
    "\n",
    "result = 7 // 2\n",
    "\n",
    "print(result)  # Output: 3\n",
    "\n",
    "\n",
    "** is the exponentiation operator, raising a number to a power.\n",
    "\n",
    "result = 2 ** 3\n",
    "\n",
    "print(result)  # Output: 8\n",
    "\n",
    "\n",
    "^ is the bitwise XOR operator, used for bitwise operations on integers.\n",
    "\n",
    "\n",
    "result = 4 ^ 3\n",
    "\n",
    "print(result)  # Output: 7\n",
    "\n"
   ]
  },
  {
   "cell_type": "markdown",
   "id": "69d37826",
   "metadata": {},
   "source": [
    "## Q.3. List the logical operators.\n",
    "\n",
    "**and:** The and operator returns True if both operands are True, otherwise it returns False. It performs a logical AND operation.\n",
    "\n",
    "**or:** The or operator returns True if at least one of the operands is True, otherwise it returns False. It performs a logical OR operation.\n",
    "\n",
    "**not:** The not operator is a unary operator that returns the opposite boolean value of its operand. If the operand is True, not returns False, and if the operand is False, not returns True. It performs a logical NOT operation."
   ]
  },
  {
   "cell_type": "code",
   "execution_count": 5,
   "id": "a72437e7",
   "metadata": {},
   "outputs": [
    {
     "name": "stdout",
     "output_type": "stream",
     "text": [
      "True\n",
      "False\n",
      "True\n"
     ]
    }
   ],
   "source": [
    "x = 5\n",
    "y = 10\n",
    "z = 7\n",
    "\n",
    "result = (x < y) and (y > z)\n",
    "print(result)  # Output: True\n",
    "\n",
    "result = (x > y) or (y < z)\n",
    "print(result)  # Output: False\n",
    "\n",
    "result = not (x > y)\n",
    "print(result)  # Output: True\n"
   ]
  },
  {
   "cell_type": "markdown",
   "id": "1970c9e1",
   "metadata": {},
   "source": [
    "## Q.4. Explain right shift operator and left shift operator with examples.\n",
    "\n",
    "**Right Shift Operator (>>):**\n",
    "The right shift operator shifts the bits of a number to the right by a specified number of positions. The rightmost bits are discarded, and the leftmost bits are filled with the sign bit (in case of signed integers) or with zeros (in case of unsigned integers).\n",
    "\n",
    "num = 12  # Binary representation: 1100\n",
    "\n",
    "result = num >> 1\n",
    "\n",
    "print(result)  # Output: 6 (Binary: 0110)\n",
    "\n",
    "result = num >> 2\n",
    "\n",
    "print(result)  # Output: 3 (Binary: 0011)\n",
    "\n",
    "\n",
    "**Left Shift Operator (<<):**\n",
    "The left shift operator shifts the bits of a number to the left by a specified number of positions. The rightmost bits are filled with zeros, and the leftmost bits are discarded. \n",
    "\n",
    "num = 3  # Binary representation: 0011\n",
    "\n",
    "result = num << 1\n",
    "\n",
    "print(result)  # Output: 6 (Binary: 0110)\n",
    "\n",
    "result = num << 2\n",
    "\n",
    "print(result)  # Output: 12 (Binary: 1100)\n"
   ]
  },
  {
   "cell_type": "markdown",
   "id": "15cdf902",
   "metadata": {},
   "source": [
    "## Q.5. Create a list containing int type data of length 15. Then write a code to check if 10 is present in the list or not."
   ]
  },
  {
   "cell_type": "code",
   "execution_count": 6,
   "id": "b1b77d60",
   "metadata": {},
   "outputs": [
    {
     "data": {
      "text/plain": [
       "15"
      ]
     },
     "execution_count": 6,
     "metadata": {},
     "output_type": "execute_result"
    }
   ],
   "source": [
    "list1=[1,2,3,4,5,6,7,8,9,1,2,3,4,5,6]\n",
    "len(list1)"
   ]
  },
  {
   "cell_type": "code",
   "execution_count": 7,
   "id": "b81f8fa3",
   "metadata": {},
   "outputs": [
    {
     "data": {
      "text/plain": [
       "15"
      ]
     },
     "execution_count": 7,
     "metadata": {},
     "output_type": "execute_result"
    }
   ],
   "source": [
    "list2=[1,2,3,4,5,6,10,8,9,1,2,3,4,5,6]\n",
    "len(list2)"
   ]
  },
  {
   "cell_type": "code",
   "execution_count": 11,
   "id": "2ea130f9",
   "metadata": {},
   "outputs": [],
   "source": [
    "def check(l,num):\n",
    "    if(num in l):\n",
    "        print(\"{} is present in list\".format(num))\n",
    "    else:\n",
    "       print(\"{} is not present in list\".format(num)) "
   ]
  },
  {
   "cell_type": "code",
   "execution_count": 12,
   "id": "3bf6bb7e",
   "metadata": {},
   "outputs": [
    {
     "name": "stdout",
     "output_type": "stream",
     "text": [
      "10 is not present in list\n"
     ]
    }
   ],
   "source": [
    "check(list1,10)"
   ]
  },
  {
   "cell_type": "code",
   "execution_count": 13,
   "id": "1f075b5b",
   "metadata": {},
   "outputs": [
    {
     "name": "stdout",
     "output_type": "stream",
     "text": [
      "10 is present in list\n"
     ]
    }
   ],
   "source": [
    "check(list2,10)"
   ]
  }
 ],
 "metadata": {
  "kernelspec": {
   "display_name": "Python 3 (ipykernel)",
   "language": "python",
   "name": "python3"
  },
  "language_info": {
   "codemirror_mode": {
    "name": "ipython",
    "version": 3
   },
   "file_extension": ".py",
   "mimetype": "text/x-python",
   "name": "python",
   "nbconvert_exporter": "python",
   "pygments_lexer": "ipython3",
   "version": "3.10.9"
  }
 },
 "nbformat": 4,
 "nbformat_minor": 5
}
