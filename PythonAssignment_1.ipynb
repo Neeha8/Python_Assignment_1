{
  "nbformat": 4,
  "nbformat_minor": 0,
  "metadata": {
    "colab": {
      "provenance": [],
      "authorship_tag": "ABX9TyNX4kFDjMV9L8AqGNgNtRO6",
      "include_colab_link": true
    },
    "kernelspec": {
      "name": "python3",
      "display_name": "Python 3"
    },
    "language_info": {
      "name": "python"
    }
  },
  "cells": [
    {
      "cell_type": "markdown",
      "metadata": {
        "id": "view-in-github",
        "colab_type": "text"
      },
      "source": [
        "<a href=\"https://colab.research.google.com/github/Neeha8/Python_Assignment_1/blob/main/PythonAssignment_1.ipynb\" target=\"_parent\"><img src=\"https://colab.research.google.com/assets/colab-badge.svg\" alt=\"Open In Colab\"/></a>"
      ]
    },
    {
      "cell_type": "markdown",
      "source": [
        "**1. In the below elements which of them are values or an expression? eg:- values can be integer or string and expressions will be mathematical operators.**\n",
        "*\n",
        "&#39;hello&#39;\n",
        "-87.8}\n",
        "-\n",
        "/\n",
        "+\n",
        "6\n",
        "\n",
        "**Answer**\n",
        "\n",
        "Expressions (Mathematical operators) --> *, -, /, + \n",
        "\n",
        "Values --> 'hello' (String), -87.8 (Float), 6 (int)"
      ],
      "metadata": {
        "id": "q9MbySqIXOv7"
      }
    },
    {
      "cell_type": "markdown",
      "source": [
        "**2. What is the difference between string and variable?**\n",
        "\n",
        "**Answer**\n",
        "\n",
        "Variables used to store data in a program,\n",
        "\n",
        "Strings are data or value, we can use them to fill up the variable\n"
      ],
      "metadata": {
        "id": "lX7Fp_AHYQBi"
      }
    },
    {
      "cell_type": "markdown",
      "source": [
        "**3. Describe three different data types.**\n",
        "\n",
        "**Answer**\n",
        "\n",
        "Integer (int): The integer data type represents whole numbers, both positive and negative, without any decimal point\n",
        "Eg: x=10\n",
        "\n",
        "String (str): The string data type is used to store sequences of characters, such as letters, numbers, and symbols. Strings are enclosed in either single quotes (' ') or double quotes (\" \")\n",
        "Eg: x=\"hello\"\n",
        "\n",
        "Floating-Point Number (float): The floating-point data type represents numbers with decimal points. Floats are used to represent real numbers and can store both whole numbers and fractions. Examples of float values include 3.14, -0.5, and 2.0.\n",
        "\n"
      ],
      "metadata": {
        "id": "C-MzqfnabwXF"
      }
    },
    {
      "cell_type": "markdown",
      "source": [
        "**4. What is an expression made up of? What do all expressions do?**\n",
        "\n",
        "**Answer**\n",
        "\n",
        "An expression is a combination of values, variables, operators, and function calls that evaluates to a single value. Expressions are used to perform computations and produce results.\n",
        "\n",
        "Eg: x=5+1+2"
      ],
      "metadata": {
        "id": "ogn78FV4b2No"
      }
    },
    {
      "cell_type": "markdown",
      "source": [
        "***5. This assignment statements, like spam = 10. What is the difference between an expression and a statement? ***\n",
        "\n",
        "**Answer**\n",
        "\n",
        "Expression:\n",
        "An expression is a combination of values, variables, operators, and function calls that can be evaluated to produce a value. Examples of expressions include mathematical calculations, function calls, string concatenation, and comparisons.\n",
        "Eg: x=5+1+2\n",
        "\n",
        "Statement:\n",
        "A statement, on the other hand, is a complete instruction that performs an action or controls the flow of execution in a program.\n",
        "spam=10\n",
        "\n",
        "spam = 10 is an assignment statement that assigns the value 10 to the variable spam. It changes the state of the program by creating or modifying variables."
      ],
      "metadata": {
        "id": "-9_Q4O_Lbmi8"
      }
    },
    {
      "cell_type": "markdown",
      "source": [
        "**6. After running the following code, what does the variable bacon contain?**\n",
        "bacon = 22\n",
        "bacon + 1"
      ],
      "metadata": {
        "id": "TiLeAAJHbbA4"
      }
    },
    {
      "cell_type": "code",
      "source": [
        "bacon = 22\n",
        "bacon + 1"
      ],
      "metadata": {
        "colab": {
          "base_uri": "https://localhost:8080/"
        },
        "id": "QaiCEM52bec3",
        "outputId": "bc4a57ca-e115-4be3-99cc-1e54a31fa49b"
      },
      "execution_count": 10,
      "outputs": [
        {
          "output_type": "execute_result",
          "data": {
            "text/plain": [
              "23"
            ]
          },
          "metadata": {},
          "execution_count": 10
        }
      ]
    },
    {
      "cell_type": "markdown",
      "source": [
        "**7. What should the values of the following two terms be?**\n",
        "&#39;spam&#39; + &#39;spamspam&#39;\n",
        "&#39;spam&#39; * 3"
      ],
      "metadata": {
        "id": "1C9FmrSdbG97"
      }
    },
    {
      "cell_type": "code",
      "source": [
        "'spam' + 'spamspam' #concatenate 2 strings"
      ],
      "metadata": {
        "colab": {
          "base_uri": "https://localhost:8080/",
          "height": 36
        },
        "id": "JElrM0a2bJvk",
        "outputId": "610421d3-44ae-487d-d831-824d9b44c1c5"
      },
      "execution_count": 8,
      "outputs": [
        {
          "output_type": "execute_result",
          "data": {
            "text/plain": [
              "'spamspamspam'"
            ],
            "application/vnd.google.colaboratory.intrinsic+json": {
              "type": "string"
            }
          },
          "metadata": {},
          "execution_count": 8
        }
      ]
    },
    {
      "cell_type": "code",
      "source": [
        " 'spam' * 3 # * is used to print string give number of times... here string will print 3 times"
      ],
      "metadata": {
        "colab": {
          "base_uri": "https://localhost:8080/",
          "height": 36
        },
        "id": "mWStdzSvbMsD",
        "outputId": "25a5a938-fb90-4547-a12c-331e52aab3f3"
      },
      "execution_count": 9,
      "outputs": [
        {
          "output_type": "execute_result",
          "data": {
            "text/plain": [
              "'spamspamspam'"
            ],
            "application/vnd.google.colaboratory.intrinsic+json": {
              "type": "string"
            }
          },
          "metadata": {},
          "execution_count": 9
        }
      ]
    },
    {
      "cell_type": "markdown",
      "source": [
        "**8. Why is eggs a valid variable name while 100 is invalid?**\n",
        "\n",
        "**Answer**\n",
        "\n",
        "variable name shouldn't start with integers\n",
        "it should start with a-z or A-Z or underscore_"
      ],
      "metadata": {
        "id": "Ovv7HjO6az1y"
      }
    },
    {
      "cell_type": "markdown",
      "source": [
        "**9. What three functions can be used to get the integer, floating-point number, or string version of a value?**\n",
        "\n",
        "**Answer**\n",
        "\n",
        "int():\n",
        "The int() function is used to convert a value to an integer.\n",
        "\n",
        "x = int(\"10\")\n",
        "print(x)  # Output: 10\n",
        "\n",
        "The float() function is used to convert a value to a floating-point number\n",
        "\n",
        "y = float(\"3.14\")\n",
        "print(y)  # Output: 3.14\n",
        "\n",
        "The str() function is used to convert a value to a string. \n",
        "\n",
        "z = str(42)\n",
        "print(z)  # Output: \"42\"\n",
        "\n"
      ],
      "metadata": {
        "id": "_IsJIfVZb9TJ"
      }
    },
    {
      "cell_type": "code",
      "source": [
        "x=int(\"10\")\n",
        "print(type(x))\n",
        "y=float(\"3.14\")\n",
        "print(type(y))\n",
        "z=str(42)\n",
        "print(type(z))"
      ],
      "metadata": {
        "colab": {
          "base_uri": "https://localhost:8080/"
        },
        "id": "-dDHreWyfqyM",
        "outputId": "a473a8e0-ae9f-43f3-e332-450df93ee4f8"
      },
      "execution_count": 12,
      "outputs": [
        {
          "output_type": "stream",
          "name": "stdout",
          "text": [
            "<class 'int'>\n",
            "<class 'float'>\n",
            "<class 'str'>\n"
          ]
        }
      ]
    },
    {
      "cell_type": "markdown",
      "source": [
        "**10. Why does this expression cause an error? How can you fix it?**\n",
        "\n",
        "&#39;I have eaten &#39; + 99 + &#39; burritos.&#39; "
      ],
      "metadata": {
        "id": "qlBHNUecaJeT"
      }
    },
    {
      "cell_type": "code",
      "source": [
        "'I have eaten ' + str(99) + ' burritos.' # we need to convert int to string"
      ],
      "metadata": {
        "colab": {
          "base_uri": "https://localhost:8080/",
          "height": 36
        },
        "id": "Sgi-eauQYPWO",
        "outputId": "d68a0287-cf8d-46f1-d537-90e77341b5c9"
      },
      "execution_count": 5,
      "outputs": [
        {
          "output_type": "execute_result",
          "data": {
            "text/plain": [
              "'I have eaten 99 burritos.'"
            ],
            "application/vnd.google.colaboratory.intrinsic+json": {
              "type": "string"
            }
          },
          "metadata": {},
          "execution_count": 5
        }
      ]
    }
  ]
}